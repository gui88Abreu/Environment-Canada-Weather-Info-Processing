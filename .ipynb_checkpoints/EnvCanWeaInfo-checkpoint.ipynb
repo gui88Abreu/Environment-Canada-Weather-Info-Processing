{
 "cells": [
  {
   "cell_type": "code",
   "execution_count": 1,
   "metadata": {},
   "outputs": [
    {
     "data": {
      "text/html": [
       "<style>.container { width:70% !important; }</style>"
      ],
      "text/plain": [
       "<IPython.core.display.HTML object>"
      ]
     },
     "metadata": {},
     "output_type": "display_data"
    }
   ],
   "source": [
    "from IPython.core.display import display, HTML\n",
    "display(HTML(\"<style>.container { width:70% !important; }</style>\"))"
   ]
  },
  {
   "cell_type": "code",
   "execution_count": 2,
   "metadata": {},
   "outputs": [],
   "source": [
    "import warnings"
   ]
  },
  {
   "cell_type": "code",
   "execution_count": 3,
   "metadata": {},
   "outputs": [
    {
     "name": "stdout",
     "output_type": "stream",
     "text": [
      "Couldn't find program: 'false'\n"
     ]
    }
   ],
   "source": [
    "%%script false --no-raise-error\n",
    "from IPython.display import HTML\n",
    "\n",
    "HTML('''<script>\n",
    "code_show=true; \n",
    "function code_toggle() {\n",
    " if (code_show){\n",
    " $('div.input').hide();\n",
    " } else {\n",
    " $('div.input').show();\n",
    " }\n",
    " code_show = !code_show\n",
    "} \n",
    "$( document ).ready(code_toggle);\n",
    "</script>\n",
    "<form action=\"javascript:code_toggle()\"><input type=\"submit\" value=\"Click here to toggle on/off the raw code.\"></form>''')"
   ]
  },
  {
   "cell_type": "code",
   "execution_count": 4,
   "metadata": {},
   "outputs": [],
   "source": [
    "import numpy as np\n",
    "import matplotlib.pyplot as plt\n",
    "import pandas as pd"
   ]
  },
  {
   "cell_type": "markdown",
   "metadata": {},
   "source": [
    "# Environment Canada Weather Information"
   ]
  },
  {
   "cell_type": "code",
   "execution_count": 5,
   "metadata": {},
   "outputs": [],
   "source": [
    "def countData(dataFrame, dictionary, column, dataQuantity, measName=''):\n",
    "    '''\n",
    "    Description: It calculate the pecentage of data available  \n",
    "    '''\n",
    "    dataSet = dictionary.copy()\n",
    "    newdf = dataFrame.copy()\n",
    "    pct = list()\n",
    "    for station in dataSet:\n",
    "        data = dataSet[station]\n",
    "        pct.append(round(100*data[column].count()/dataQuantity,2))\n",
    "        \n",
    "    newdf[measName+\" Available Data\"+' (%)'] = pct\n",
    "    return newdf"
   ]
  },
  {
   "cell_type": "code",
   "execution_count": 6,
   "metadata": {},
   "outputs": [],
   "source": [
    "def fltrbyDQ(dictionary, column, dataQuantity, threshold = 0.6):\n",
    "    '''\n",
    "    Description: Filter by Data Quantity. It returns a list with keys that don't have enough data according to the threshold passed.\n",
    "    '''\n",
    "    dataSet = dictionary.copy()\n",
    "    statList = list()\n",
    "    for station in dataSet:\n",
    "        data = dataSet[station]\n",
    "        if data[column].count()/dataQuantity < threshold:\n",
    "            statList.append(station)\n",
    "    return statList"
   ]
  },
  {
   "cell_type": "code",
   "execution_count": 7,
   "metadata": {},
   "outputs": [],
   "source": [
    "def removeItems(dictionary, keys):\n",
    "    '''\n",
    "    Description: Remove a list of keys from a dict object.\n",
    "    '''\n",
    "    d = dictionary.copy()\n",
    "    for key in keys:\n",
    "        d.pop(key)\n",
    "    return d"
   ]
  },
  {
   "cell_type": "code",
   "execution_count": 8,
   "metadata": {},
   "outputs": [],
   "source": [
    "# get Julian Day\n",
    "def getJulianDay(dt, dateCol, yearCol, monthCol, dayCol):\n",
    "    import datetime as dttm\n",
    "    \n",
    "    julianDayCol = \"days\"\n",
    "    \n",
    "    data = dt.copy()\n",
    "    \n",
    "    #split datetime into date and time columns\n",
    "    datetime = np.asarray([d.split(' ') for d in data[dateCol]], dtype='str')\n",
    "    data[dateCol] = datetime[:,0]\n",
    "    \n",
    "    # get year month and day from Date\n",
    "    date = np.asarray([d.split('-') for d in data[dateCol].values], dtype='uint16')\n",
    "    \n",
    "    # create new coluns\n",
    "    data[yearCol]  = date[:,0]\n",
    "    data[monthCol] = date[:,1]\n",
    "    data[dayCol]   = date[:,2]\n",
    "    data[julianDayCol] = 0\n",
    "    \n",
    "    for date in data[dateCol].unique():\n",
    "        d = dttm.datetime.strptime(date, \"%Y-%m-%d\") # get datetime object\n",
    "        data.loc[ (data[yearCol] == d.year) & (data[monthCol] == d.month) & (data[dayCol] == d.day), julianDayCol] = dttm.date(d.year,d.month,d.day).toordinal()\n",
    "    \n",
    "    data[julianDayCol] += 1 - data[julianDayCol].min()\n",
    "    return data\n",
    "\n",
    "def getMaxMin(dt, column, daysCol):\n",
    "    '''\n",
    "    Description:\n",
    "        It computes max and min value of the specified column passed for each day. \n",
    "        It returns a list with the values for each day.\n",
    "    Input:\n",
    "        column: The name of the column of interest.\n",
    "    Output:\n",
    "        A list with lists containing max and min value for each day. \n",
    "        As the following example:\n",
    "\n",
    "        returning list := [[max1,min1], [max2,min2], ...,[maxN,minN]]\n",
    "    '''\n",
    "    julianDayCol = daysCol \n",
    "    data = dt.copy()\n",
    "    \n",
    "    data = data.dropna(subset=[column])\n",
    "    \n",
    "    mxmn_list = list()\n",
    "    for day in data[julianDayCol].unique():\n",
    "        d = data[data[julianDayCol] == day] \n",
    "        mxmn_list.append([round(np.max(d[column]),2), round(np.min(d[column]),2)])\n",
    "    \n",
    "    cols = [julianDayCol, 'Max ' + column, 'Min ' +  column]\n",
    "\n",
    "    days = np.asarray(data[julianDayCol].unique()).reshape((-1,1))\n",
    "    mxmn = np.asarray(mxmn_list)\n",
    "    \n",
    "    values = np.concatenate((days, mxmn), axis=1)\n",
    "    newdf = pd.DataFrame(values, columns = cols)\n",
    "    newdf['DATE'] = data['Date/Time'].unique()\n",
    "    newdf['days'] = newdf['days'].astype('uint8')\n",
    "    return newdf"
   ]
  },
  {
   "cell_type": "markdown",
   "metadata": {},
   "source": [
    "##  Data"
   ]
  },
  {
   "cell_type": "code",
   "execution_count": 9,
   "metadata": {},
   "outputs": [],
   "source": [
    "closestT = {'5574':'53001', '5415':'51157'}"
   ]
  },
  {
   "cell_type": "code",
   "execution_count": 10,
   "metadata": {},
   "outputs": [],
   "source": [
    "dataPath     = \"../dataset/envcan/\"\n",
    "IDs = ['51157', '53001']\n",
    "from datetime import date\n",
    "delta = date(2018, 8, 31) - date(2018, 6, 1)"
   ]
  },
  {
   "cell_type": "code",
   "execution_count": 11,
   "metadata": {},
   "outputs": [],
   "source": [
    "dataSet = dict()\n",
    "\n",
    "#It opens them\n",
    "for file in IDs:\n",
    "    data = pd.read_csv(dataPath+file+'.csv')\n",
    "    data = data.dropna(axis = 0, how = 'all')\n",
    "    dataSet[file] = data"
   ]
  },
  {
   "cell_type": "markdown",
   "metadata": {},
   "source": [
    "## Complete Data"
   ]
  },
  {
   "cell_type": "code",
   "execution_count": 12,
   "metadata": {},
   "outputs": [],
   "source": [
    "comp = {'5415-2':'51157', '27717':'53001'}\n",
    "#It opens them\n",
    "for file in comp:\n",
    "    data = pd.read_csv(dataPath+file+'.csv')\n",
    "    data = data.dropna(axis = 0, how = 'all')\n",
    "    dataSet[comp[file]] = data.append(dataSet[comp[file]])"
   ]
  },
  {
   "cell_type": "markdown",
   "metadata": {},
   "source": [
    "## Sumarize Data"
   ]
  },
  {
   "cell_type": "code",
   "execution_count": 13,
   "metadata": {},
   "outputs": [],
   "source": [
    "hrDataSet = dict()\n",
    "\n",
    "for station in dataSet:\n",
    "    data = dataSet[station]\n",
    "\n",
    "    data = getJulianDay(data, 'Date/Time', 'Year', 'Month', 'Day')\n",
    "    newdf = getMaxMin(data, 'Temp (°C)', 'days')\n",
    "    hrDataSet[station] = newdf"
   ]
  },
  {
   "cell_type": "markdown",
   "metadata": {},
   "source": [
    "## 1981-2010 Climate Normal"
   ]
  },
  {
   "cell_type": "code",
   "execution_count": 14,
   "metadata": {},
   "outputs": [],
   "source": [
    "cnDataSet = dict()\n",
    "\n",
    "IDs = ['5574', '5415']\n",
    "dataPath = \"../dataset/envcan/\"\n",
    "\n",
    "#It opens them\n",
    "for ID in IDs:\n",
    "    data = pd.read_csv(dataPath+str(ID)+'.csv')\n",
    "    data = data.dropna(axis = 0, how = 'all')\n",
    "    cnDataSet[str(ID)] = data"
   ]
  },
  {
   "cell_type": "markdown",
   "metadata": {},
   "source": [
    "## Heatwave Analysis"
   ]
  },
  {
   "cell_type": "code",
   "execution_count": 15,
   "metadata": {},
   "outputs": [],
   "source": [
    "import climahe.climatex as ew"
   ]
  },
  {
   "cell_type": "code",
   "execution_count": 16,
   "metadata": {},
   "outputs": [],
   "source": [
    "for code in hrDataSet:\n",
    "    hrDataSet[code].rename(columns={\"Date/Time\": \"DATE\"}, inplace=True)\n",
    "    hrDataSet[code] = hrDataSet[code][['Max Temp (°C)','Min Temp (°C)','DATE']]"
   ]
  },
  {
   "cell_type": "code",
   "execution_count": 17,
   "metadata": {},
   "outputs": [],
   "source": [
    "for code in cnDataSet:\n",
    "    cnDataSet[code].rename(columns={\"Date/Time\": \"DATE\"}, inplace=True)\n",
    "    cnDataSet[code]= cnDataSet[code][['Max Temp (°C)','Min Temp (°C)','DATE']]"
   ]
  },
  {
   "cell_type": "code",
   "execution_count": 18,
   "metadata": {
    "scrolled": false
   },
   "outputs": [
    {
     "name": "stdout",
     "output_type": "stream",
     "text": [
      "Computing Heatwaves For Station: 53001\n",
      "Computing Heatwaves For Station: 51157\n",
      "Done.\n"
     ]
    }
   ],
   "source": [
    "#%%script false --no-raise-error\n",
    "\n",
    "#Run this cell just if you don't have the output saved in your machine. It takes almost 2h30 to complete this task.\n",
    "warnings.filterwarnings(\"ignore\")\n",
    "pcts = dict()\n",
    "\n",
    "for i in closestT:\n",
    "    print('Computing Heatwaves For Station: ' + closestT[i])\n",
    "    cnDataSet[i]['DATE'] = pd.to_datetime(cnDataSet[i]['DATE'])\n",
    "    hrDataSet[closestT[i]]['DATE'] = pd.to_datetime(hrDataSet[closestT[i]]['DATE'])\n",
    "    hrDataSet[closestT[i]], pct_90 = ew.check_HeatWave(climatic_normal=cnDataSet[i], pct_columnMAX='Max Temp (°C)', \n",
    "                          pct_columnMIN='Min Temp (°C)', cn_columnDay365 = 0, database=hrDataSet[closestT[i]], \n",
    "                          db_columnMAX='Max Temp (°C)', db_columnMIN='Min Temp (°C)', db_columnDay365 = 0,\n",
    "                          db_complete=0, percentile_value=0.9, window_size=30)\n",
    "    pcts[closestT[i]] = pct_90\n",
    "    hrDataSet[closestT[i]].to_csv('heatwave_'+closestT[i]+'.csv')\n",
    "print('Done.')"
   ]
  },
  {
   "cell_type": "code",
   "execution_count": 19,
   "metadata": {},
   "outputs": [],
   "source": [
    "dataSet = dict()\n",
    "for key in hrDataSet:\n",
    "    hrDataSet[key].index = range(1, hrDataSet[key].shape[0]+1)\n",
    "    hrDataSet[key] = pd.concat([hrDataSet[key],pcts[key]], axis=1)\n",
    "    data = hrDataSet[key]\n",
    "    data = data.set_index('DATE')\n",
    "    months = data.index.month\n",
    "    mask = ((months == 6).astype('uint8') + (months == 7).astype('uint8') + (months == 8).astype('uint8')).astype(bool)\n",
    "    data = hrDataSet[key].iloc[mask]\n",
    "    dataSet[key] = (data, ew.wave_metrics(data, 'HW'))"
   ]
  },
  {
   "cell_type": "code",
   "execution_count": 21,
   "metadata": {},
   "outputs": [],
   "source": [
    "def label_heatwaves(data):\n",
    "    import numpy as np\n",
    "    from scipy.ndimage.measurements import label\n",
    "\n",
    "    array = np.asarray([data['HW']])\n",
    "    structure = np.ones((3, 3), dtype=np.int)  # this defines the connection filter\n",
    "    labeled, ncomponents = label(array, structure)\n",
    "    \n",
    "    return labeled[0]"
   ]
  },
  {
   "cell_type": "code",
   "execution_count": 42,
   "metadata": {},
   "outputs": [],
   "source": [
    "def hw_metrics_plot(data, xlabel, ylabel, title, bar_labels, colors, width = 0.25):\n",
    "    import matplotlib\n",
    "    import matplotlib.pyplot as plt\n",
    "    import numpy as np\n",
    "    \n",
    "    fig, ax = plt.subplots(data.shape[1],1,figsize=(32,16))\n",
    "    for i in range(data.shape[1]):\n",
    "        ax[i].bar(data.index, data.iloc[:,i].values, width, label=bar_labels[i], color = colors[i])\n",
    "\n",
    "        # Add some text for labels, title and custom x-axis tick labels, etc.\n",
    "        ax[i].grid(which='both', axis='y', linestyle=':', linewidth='0.5', color='black')\n",
    "        ax[i].set_ylabel(ylabel[i])\n",
    "        ax[i].set_xlabel(xlabel)\n",
    "        ax[i].set_title(title)\n",
    "        ax[i].set_xticks(data.index)\n",
    "        ax[i].legend()\n",
    "        \n",
    "    fig.tight_layout()\n",
    "    return fig"
   ]
  },
  {
   "cell_type": "code",
   "execution_count": 23,
   "metadata": {},
   "outputs": [],
   "source": [
    "def HCW_waves_plot(fig, ax, x1, x2, y1, y2, xlabel, ylabel, legend1, legend2, title):\n",
    "    import matplotlib\n",
    "    \n",
    "    ax.set_title(title)\n",
    "    ax.set_xlabel(xlabel)\n",
    "    ax.set_ylabel(ylabel)\n",
    "    ax.bar(x1, y1, color='blue', label= legend1)\n",
    "    ax.bar(x2, y2, color='red' , label= legend2)\n",
    "    \n",
    "    # Turn on the minor TICKS, which are required for the minor GRID\n",
    "    ax.minorticks_on()\n",
    "\n",
    "    # Customize the major grid\n",
    "    #ax.grid(which='major', axis='y', linestyle='-', linewidth='0.5', color='black')\n",
    "    # Customize the minor grid\n",
    "    ax.grid(which='both', axis='y', linestyle=':', linewidth='0.5', color='black')\n",
    "    \n",
    "    handles, labels = ax.get_legend_handles_labels()\n",
    "    i = 0\n",
    "    while i < len(handles):\n",
    "        if type(handles[i]) != matplotlib.lines.Line2D and len(handles[i]) == 0:\n",
    "            handles.remove(handles[i])\n",
    "            labels.remove(labels[i])\n",
    "        else:\n",
    "            i+=1\n",
    "    \n",
    "    ax.legend(handles, labels, bbox_to_anchor=(0.9, 1.05))"
   ]
  },
  {
   "cell_type": "code",
   "execution_count": 24,
   "metadata": {},
   "outputs": [],
   "source": [
    "def HCW_pct_plot(fig, ax, dates, tmax, tmin, pct90mx, pct90mn, \n",
    "                 HW_dates, HW_tmax, HW_pct90mx, HW_tmin, HW_pct90mn, \n",
    "                 xlabel='', ylabel='', legend=['','','','',''], title=''):\n",
    "    \n",
    "    import matplotlib\n",
    "    \n",
    "    x = dates[range(0,len(dates),5)]\n",
    "    \n",
    "    ax.set_title(title)\n",
    "    ax.set_xlabel(xlabel)\n",
    "    ax.set_ylabel(ylabel)\n",
    "    ax.set_xticks(x)\n",
    "    ax.set_xticklabels(x)\n",
    "    \n",
    "    ax.plot(dates, tmax, color='red', label= legend[0])\n",
    "    ax.plot(dates, tmin, color='blue', label= legend[1])\n",
    "    ax.plot(dates, pct90mx, color='red', linestyle='--', label = legend[2])\n",
    "    ax.plot(dates, pct90mn, color='blue', linestyle='--', label = legend[3])\n",
    "    \n",
    "    for i in range(len(HW_tmax)):\n",
    "        ax.fill_between(HW_dates[i], HW_tmax[i], HW_pct90mx[i], where=HW_tmax[i] > HW_pct90mx[i], \n",
    "                        facecolor='red', interpolate=False,label=legend[4])\n",
    "        ax.fill_between(HW_dates[i], HW_tmin[i], HW_pct90mn[i], where=HW_tmin[i] > HW_pct90mn[i], \n",
    "                        facecolor='blue', interpolate=False,label=legend[4])\n",
    "    \n",
    "    # Turn on the minor TICKS, which are required for the minor GRID\n",
    "    ax.minorticks_on()\n",
    "\n",
    "    # Customize the major grid\n",
    "    #ax.grid(which='major', axis='y', linestyle='-', linewidth='0.5', color='black')\n",
    "    # Customize the minor grid\n",
    "    ax.grid(which='both', axis='both', linestyle=':', linewidth='0.5', color='black')\n",
    "    \n",
    "    handles, labels = ax.get_legend_handles_labels()\n",
    "    i = 0\n",
    "    while i < len(handles):\n",
    "        if type(handles[i]) != matplotlib.lines.Line2D and type(handles[i]) != matplotlib.collections.PolyCollection and len(handles[i]) == 0:\n",
    "            handles.remove(handles[i])\n",
    "            labels.remove(labels[i])\n",
    "        else:\n",
    "            i+=1\n",
    "    \n",
    "    ax.legend(handles, labels, bbox_to_anchor=(0.9, 1.05))"
   ]
  },
  {
   "cell_type": "code",
   "execution_count": 43,
   "metadata": {},
   "outputs": [
    {
     "name": "stdout",
     "output_type": "stream",
     "text": [
      "Ploting Heatwaves Metrics for Station 51157...\n",
      "Ploting Heatwaves Metrics for Station 53001...\n",
      "task finished.\n"
     ]
    }
   ],
   "source": [
    "# Turn interactive plotting off\n",
    "plt.ioff()\n",
    "path = \"../dataset/envcan/reports/\"\n",
    "metaData = pd.read_csv('stations_inventory.csv')\n",
    "for key in dataSet:\n",
    "    print(\"Ploting Heatwaves Metrics for Station \"+key+'...')\n",
    "    name = metaData.loc[metaData['Station ID'] == int(key)]['Name'].values[0]\n",
    "    \n",
    "    bar_labels = ['Nº of Heatwaves','Longest Heatwave Duration in Days','Total of Days Under Heatwave']\n",
    "    \n",
    "    data = dataSet[key][1]\n",
    "    fig = hw_metrics_plot(data, xlabel = 'year', ylabel=['Counts', 'Days', 'Days'], \n",
    "                          title=\"Station: \"+name+\". Heatwave Metrics\", \n",
    "                          bar_labels=bar_labels, colors = ['b', 'g', 'r'])\n",
    "    \n",
    "    fig.savefig(path+'1-metrics-'+key+'.png')\n",
    "    plt.close(fig)\n",
    "    \n",
    "print('task finished.')"
   ]
  },
  {
   "cell_type": "code",
   "execution_count": 52,
   "metadata": {},
   "outputs": [
    {
     "name": "stdout",
     "output_type": "stream",
     "text": [
      "Ploting Heatwaves for Station 51157...\n",
      "Ploting Heatwaves for Station 53001...\n",
      "task finished.\n"
     ]
    }
   ],
   "source": [
    "# Turn interactive plotting off\n",
    "plt.ioff()\n",
    "path = \"../dataset/envcan/reports/\"\n",
    "metaData = pd.read_csv('stations_inventory.csv')\n",
    "for key in dataSet:\n",
    "    print(\"Ploting Heatwaves for Station \"+key+'...')\n",
    "    name = metaData.loc[metaData['Station ID'] == int(key)]['Name'].values[0]\n",
    "    \n",
    "    #bar_labels = ['Number of Heatwaves','Longest Heatwave Duration in Days','Total of Days With Heatwave']\n",
    "\n",
    "    #fig, ax = plt.subplots(3,1,figsize=(16,16))\n",
    "    #hw_metrics_plot(fig = fig, ax = ax[0], data=hrDataSet[key][1], xlabels = ['Summer 2018', 'Summer 2019'], \n",
    "    #                ylabel='', title=\"Station: \"+name+\". Heatwave Metrics\", bar_labels=bar_labels)\n",
    "    \n",
    "    data = dataSet[key][0]\n",
    "    data = data.set_index('DATE')\n",
    "    year = data.index.year\n",
    "    for i in range(year.min(), year.max()+1):\n",
    "        mask = year == i\n",
    "        data = dataSet[key][0].iloc[mask]\n",
    "\n",
    "        y1 = data.loc[data['HW'] == 0]['Max Temp (°C)'].values\n",
    "        x1 = data.loc[data['HW'] == 0]['DATE'].values\n",
    "        y2 = data.loc[data['HW'] == 1]['Max Temp (°C)'].values\n",
    "        x2 = data.loc[data['HW'] == 1]['DATE'].values\n",
    "        \n",
    "        fig, ax = plt.subplots(1,1,figsize=(32,16))\n",
    "        HCW_waves_plot(fig, ax, x1, x2, y1, y2, 'Date', 'Max Temperature (°C)', 'Normal', 'Heatwave', \n",
    "                      \"Station: \"+name+\". Heatwaves in Quebec during summer, \"+str(i))\n",
    "        \n",
    "        fig.savefig(path+key+'-'+str(i)+'.png')\n",
    "        plt.close(fig)\n",
    "print('task finished.')"
   ]
  },
  {
   "cell_type": "code",
   "execution_count": 53,
   "metadata": {
    "scrolled": false
   },
   "outputs": [
    {
     "name": "stdout",
     "output_type": "stream",
     "text": [
      "Ploting Algorithm demonstration for Station 51157...\n",
      "Ploting Algorithm demonstration for Station 53001...\n",
      "task finished.\n"
     ]
    }
   ],
   "source": [
    "# Turn interactive plotting off\n",
    "plt.ioff()\n",
    "path = \"../dataset/envcan/reports/\"\n",
    "for key in hrDataSet:\n",
    "    print(\"Ploting Algorithm demonstration for Station \"+key+'...')\n",
    "    \n",
    "    name = metaData.loc[metaData['Station ID'] == int(key)]['Name'].values[0]\n",
    "    \n",
    "    legend = ['Max Temperature', 'Min Temperature', '90th Tmax Percentile', '90th Tmin Percentile', 'Heatwave']\n",
    "    \n",
    "    data = dataSet[key][0]\n",
    "    data = data.set_index('DATE')\n",
    "    year = data.index.year\n",
    "    for i in range(year.min(), year.max()+1):\n",
    "        mask = year == i\n",
    "        data = dataSet[key][0].iloc[mask]\n",
    "    \n",
    "        dates = data['DAY365'].values\n",
    "        tmax, tmin = data['Max Temp (°C)'].values, data['Min Temp (°C)'].values\n",
    "        if year.min() == i:\n",
    "            pct90mx, pct90mn = data['CTX90pct'].values, data['CTN90pct'].values\n",
    "        else:\n",
    "            warnings.filterwarnings(\"ignore\")\n",
    "            data['CTX90pct'] = pct90mx\n",
    "            data['CTN90pct'] = pct90mn\n",
    "        \n",
    "        data['Heatwave Label'] = label_heatwaves(data)\n",
    "\n",
    "        HW_dates = []\n",
    "        HW_tmax = []\n",
    "        HW_tmin = []\n",
    "        HW_pct90mx = []\n",
    "        HW_pct90mn = []\n",
    "        for label in data['Heatwave Label'].unique():\n",
    "            if label == 0:\n",
    "                continue\n",
    "            HW_dates.append(data.loc[data['Heatwave Label'] == label]['DAY365'].values)\n",
    "            HW_tmax.append(data.loc[data['Heatwave Label'] == label]['Max Temp (°C)'].values)\n",
    "            HW_tmin.append(data.loc[data['Heatwave Label'] == label]['Min Temp (°C)'].values)\n",
    "            HW_pct90mx.append(data.loc[data['Heatwave Label'] == label]['CTX90pct'].values)\n",
    "            HW_pct90mn.append(data.loc[data['Heatwave Label'] == label]['CTN90pct'].values)\n",
    "\n",
    "        title = 'Heatwave Analysis during Summer of '+str(i)\n",
    "        fig, ax = plt.subplots(1,1,figsize=(32,16))\n",
    "        HCW_pct_plot(fig, ax, dates, tmax, tmin, pct90mx, pct90mn, \n",
    "                    HW_dates, HW_tmax, HW_pct90mx, HW_tmin, HW_pct90mn, \n",
    "                    xlabel='Day', ylabel='Temperature (°C)', legend=legend, title=title)\n",
    "\n",
    "        fig.savefig(path+'alg-'+key+'-'+str(i)+'.png')\n",
    "        plt.close(fig)\n",
    "\n",
    "\n",
    "print('task finished.')"
   ]
  },
  {
   "cell_type": "code",
   "execution_count": 40,
   "metadata": {},
   "outputs": [],
   "source": [
    "def generate_report(fileName, files, path):\n",
    "    from PIL import Image\n",
    "    \n",
    "    image = list()\n",
    "    for file in files:\n",
    "        img = Image.open(path+file)\n",
    "        img = img.convert('RGB')\n",
    "        image.append(img)\n",
    "\n",
    "    image[0].save(path+fileName+'.pdf',save_all=True, append_images=image[1:])"
   ]
  },
  {
   "cell_type": "code",
   "execution_count": 44,
   "metadata": {
    "scrolled": false
   },
   "outputs": [],
   "source": [
    "import os\n",
    "path1 = \"../dataset/envcan/reports/Montreal/\"\n",
    "path2 = \"../dataset/envcan/reports/Ottawa/\"\n",
    "files1 = os.listdir(path1)\n",
    "files2 = os.listdir(path2)\n",
    "generate_report('Montreal', files1, path1)\n",
    "generate_report('Ottawa', files2, path2)"
   ]
  }
 ],
 "metadata": {
  "kernelspec": {
   "display_name": "Python 3",
   "language": "python",
   "name": "python3"
  },
  "language_info": {
   "codemirror_mode": {
    "name": "ipython",
    "version": 3
   },
   "file_extension": ".py",
   "mimetype": "text/x-python",
   "name": "python",
   "nbconvert_exporter": "python",
   "pygments_lexer": "ipython3",
   "version": "3.8.3"
  }
 },
 "nbformat": 4,
 "nbformat_minor": 2
}
