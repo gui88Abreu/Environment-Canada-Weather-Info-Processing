{
 "cells": [
  {
   "cell_type": "markdown",
   "metadata": {},
   "source": [
    "# Environment Canada Weather Information"
   ]
  },
  {
   "cell_type": "markdown",
   "metadata": {},
   "source": [
    "## Province of Quebec Information\n",
    "\n",
    "In this section, it's computed relevant information about the data from the Province of Quebec. In order to begin our analysis, let us focus our attention on a short space of time. Therefore, we are going to be interested in the period between June 1st and August 31st. The most relevant measurements we are concern about are Air Temperature, Relative Humidity, and Dew Point. So, most treatments done here are concern about them as well."
   ]
  },
  {
   "cell_type": "code",
   "execution_count": 1,
   "metadata": {},
   "outputs": [],
   "source": [
    "import os\n",
    "import pandas as pd\n",
    "import envcanlib as ecl"
   ]
  },
  {
   "cell_type": "code",
   "execution_count": 3,
   "metadata": {},
   "outputs": [],
   "source": [
    "#It opens the metadata and selects the Ids from the Province of Quebec.\n",
    "metaData = pd.read_csv(\"stations_inventory.csv\")\n",
    "quebecStations = metaData[metaData[\"Province\"] == \"QUEBEC\"]\n",
    "IDs = quebecStations[\"Station ID\"].unique()\n",
    "dataPath = \"../data_set/EnviromentCanada/QuebecStations/\""
   ]
  },
  {
   "cell_type": "code",
   "execution_count": null,
   "metadata": {},
   "outputs": [],
   "source": [
    "#It downloads data\n",
    "ecl.downloadData(IDs = IDs, start = (2018, 6), end = (2018,8), method = 'hourly', path = dataPath)"
   ]
  },
  {
   "cell_type": "code",
   "execution_count": 4,
   "metadata": {},
   "outputs": [],
   "source": [
    "dataSet = dict()\n",
    "\n",
    "#It gets the name of each file downloaded previously\n",
    "pipe = os.popen(\"ls -N \" + dataPath)\n",
    "stationFiles = pipe.readlines()\n",
    "stationFiles = [file.replace('\\n','') for file in stationFiles]"
   ]
  },
  {
   "cell_type": "code",
   "execution_count": 5,
   "metadata": {},
   "outputs": [],
   "source": [
    "#It opens them\n",
    "for file in stationFiles:\n",
    "    data = pd.read_csv(dataPath+file)\n",
    "    data = data.dropna(axis = 0, how = 'all')\n",
    "    dataSet[file.replace('.csv','')] = data"
   ]
  },
  {
   "cell_type": "markdown",
   "metadata": {},
   "source": [
    "### Missing Data\n",
    "\n",
    "Missing data is one of the most relevant information we must know about the data. As it was mentioned above, we are concern about Air Temperature, Relative Humidity, and Dew point. So, here it's computed how many stations don't have these measurements in the period of interest."
   ]
  },
  {
   "cell_type": "code",
   "execution_count": 6,
   "metadata": {},
   "outputs": [],
   "source": [
    "#It computes how many relevant data are missing on the dataset\n",
    "countTemp = countRH = countDP   = 0\n",
    "for key in dataSet:\n",
    "    data = dataSet[key]\n",
    "    countTemp += int(data['Temp (°C)'].isna().all())\n",
    "    countRH   += int(data['Rel Hum (%)'].isna().all())\n",
    "    countDP   += int(data['Dew Point Temp (°C)'].isna().all())"
   ]
  },
  {
   "cell_type": "code",
   "execution_count": 13,
   "metadata": {},
   "outputs": [
    {
     "name": "stdout",
     "output_type": "stream",
     "text": [
      "Missing Data:\n",
      "Air Temperature:     953 of 1094\n",
      "Relative Humidity:   957 of 1094\n",
      "Dew Point:           957 of 1094\n"
     ]
    }
   ],
   "source": [
    "print('Missing Data:')\n",
    "print('Air Temperature:     %d of %d' %(countTemp,len(dataSet)))\n",
    "print('Relative Humidity:   %d of %d' %(countRH,len(dataSet),))\n",
    "print('Dew Point:           %d of %d'  %(countDP,len(dataSet)))"
   ]
  }
 ],
 "metadata": {
  "kernelspec": {
   "display_name": "Python 3",
   "language": "python",
   "name": "python3"
  },
  "language_info": {
   "codemirror_mode": {
    "name": "ipython",
    "version": 3
   },
   "file_extension": ".py",
   "mimetype": "text/x-python",
   "name": "python",
   "nbconvert_exporter": "python",
   "pygments_lexer": "ipython3",
   "version": "3.7.4"
  }
 },
 "nbformat": 4,
 "nbformat_minor": 2
}
