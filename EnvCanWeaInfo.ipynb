{
 "cells": [
  {
   "cell_type": "code",
   "execution_count": 1,
   "metadata": {},
   "outputs": [
    {
     "data": {
      "text/html": [
       "<style>.container { width:70% !important; }</style>"
      ],
      "text/plain": [
       "<IPython.core.display.HTML object>"
      ]
     },
     "metadata": {},
     "output_type": "display_data"
    }
   ],
   "source": [
    "from IPython.core.display import display, HTML\n",
    "display(HTML(\"<style>.container { width:70% !important; }</style>\"))"
   ]
  },
  {
   "cell_type": "code",
   "execution_count": 2,
   "metadata": {},
   "outputs": [],
   "source": [
    "import warnings"
   ]
  },
  {
   "cell_type": "code",
   "execution_count": 3,
   "metadata": {},
   "outputs": [
    {
     "name": "stdout",
     "output_type": "stream",
     "text": [
      "Couldn't find program: 'false'\n"
     ]
    }
   ],
   "source": [
    "%%script false --no-raise-error\n",
    "from IPython.display import HTML\n",
    "\n",
    "HTML('''<script>\n",
    "code_show=true; \n",
    "function code_toggle() {\n",
    " if (code_show){\n",
    " $('div.input').hide();\n",
    " } else {\n",
    " $('div.input').show();\n",
    " }\n",
    " code_show = !code_show\n",
    "} \n",
    "$( document ).ready(code_toggle);\n",
    "</script>\n",
    "<form action=\"javascript:code_toggle()\"><input type=\"submit\" value=\"Click here to toggle on/off the raw code.\"></form>''')"
   ]
  },
  {
   "cell_type": "code",
   "execution_count": 4,
   "metadata": {},
   "outputs": [],
   "source": [
    "import numpy as np\n",
    "import matplotlib.pyplot as plt\n",
    "import pandas as pd"
   ]
  },
  {
   "cell_type": "markdown",
   "metadata": {},
   "source": [
    "# Environment Canada Weather Information"
   ]
  },
  {
   "cell_type": "code",
   "execution_count": 5,
   "metadata": {},
   "outputs": [],
   "source": [
    "def countData(dataFrame, dictionary, column, dataQuantity, measName=''):\n",
    "    '''\n",
    "    Description: It calculate the pecentage of data available  \n",
    "    '''\n",
    "    dataSet = dictionary.copy()\n",
    "    newdf = dataFrame.copy()\n",
    "    pct = list()\n",
    "    for station in dataSet:\n",
    "        data = dataSet[station]\n",
    "        pct.append(round(100*data[column].count()/dataQuantity,2))\n",
    "        \n",
    "    newdf[measName+\" Available Data\"+' (%)'] = pct\n",
    "    return newdf"
   ]
  },
  {
   "cell_type": "code",
   "execution_count": 6,
   "metadata": {},
   "outputs": [],
   "source": [
    "def fltrbyDQ(dictionary, column, dataQuantity, threshold = 0.6):\n",
    "    '''\n",
    "    Description: Filter by Data Quantity. It returns a list with keys that don't have enough data according to the threshold passed.\n",
    "    '''\n",
    "    dataSet = dictionary.copy()\n",
    "    statList = list()\n",
    "    for station in dataSet:\n",
    "        data = dataSet[station]\n",
    "        if data[column].count()/dataQuantity < threshold:\n",
    "            statList.append(station)\n",
    "    return statList"
   ]
  },
  {
   "cell_type": "code",
   "execution_count": 7,
   "metadata": {},
   "outputs": [],
   "source": [
    "def removeItems(dictionary, keys):\n",
    "    '''\n",
    "    Description: Remove a list of keys from a dict object.\n",
    "    '''\n",
    "    d = dictionary.copy()\n",
    "    for key in keys:\n",
    "        d.pop(key)\n",
    "    return d"
   ]
  },
  {
   "cell_type": "code",
   "execution_count": 8,
   "metadata": {},
   "outputs": [],
   "source": [
    "# get Julian Day\n",
    "def getJulianDay(dt, dateCol, yearCol, monthCol, dayCol):\n",
    "    import datetime as dttm\n",
    "    \n",
    "    julianDayCol = \"days\"\n",
    "    \n",
    "    data = dt.copy()\n",
    "    data[julianDayCol] = 0\n",
    "    \n",
    "    # get year month and day from Date\n",
    "    if '-' in data[dateCol].values[0]:\n",
    "        date = np.asarray([d.split('-') for d in data[dateCol].values], dtype='uint16')\n",
    "        # create new coluns\n",
    "        data[yearCol]  = date[:,0]\n",
    "        data[monthCol] = date[:,1]\n",
    "        data[dayCol]   = date[:,2]\n",
    "    \n",
    "        for date in data[dateCol].unique():\n",
    "            d = dttm.datetime.strptime(date, \"%Y-%m-%d\") # get datetime object\n",
    "            data.loc[ (data[yearCol] == d.year) & (data[monthCol] == d.month) & (data[dayCol] == d.day), \n",
    "                     julianDayCol] = dttm.date(d.year,d.month,d.day).toordinal()\n",
    "    else:\n",
    "        date = np.asarray([d.split('/') for d in data[dateCol].values], dtype='uint16')\n",
    "        data[yearCol]  = date[:,2]\n",
    "        data[monthCol] = date[:,1]\n",
    "        data[dayCol]   = date[:,0]\n",
    "\n",
    "        for date in data[dateCol].unique():\n",
    "            d = dttm.datetime.strptime(date, \"%d/%m/%Y\") # get datetime object\n",
    "            data.loc[ (data[yearCol] == d.year) & (data[monthCol] == d.month) & (data[dayCol] == d.day), \n",
    "                     julianDayCol] = dttm.date(d.year,d.month,d.day).toordinal()\n",
    "            data.loc[ (data[yearCol] == d.year) & (data[monthCol] == d.month) & (data[dayCol] == d.day), \n",
    "                     dateCol] = str(d.year)+'-'+str(d.month)+'-'+str(d.day)\n",
    "\n",
    "        data[julianDayCol] += 1 - data[julianDayCol].min()\n",
    "    return data"
   ]
  },
  {
   "cell_type": "code",
   "execution_count": 9,
   "metadata": {},
   "outputs": [],
   "source": [
    "def getMaxMin(dt, column, dateCol, daysCol):\n",
    "    '''\n",
    "    Description:\n",
    "        It computes max and min value of the specified column passed for each day. \n",
    "        It returns a list with the values for each day.\n",
    "    Input:\n",
    "        column: The name of the column of interest.\n",
    "    Output:\n",
    "        A list with lists containing max and min value for each day. \n",
    "        As the following example:\n",
    "\n",
    "        returning list := [[max1,min1], [max2,min2], ...,[maxN,minN]]\n",
    "    '''\n",
    "    julianDayCol = daysCol \n",
    "    data = dt.copy()\n",
    "    \n",
    "    data = data.dropna(subset=[column])\n",
    "    \n",
    "    mxmn_list = list()\n",
    "    for day in data[julianDayCol].unique():\n",
    "        d = data[data[julianDayCol] == day] \n",
    "        mxmn_list.append([round(np.max(d[column]),2), round(np.min(d[column]),2)])\n",
    "    \n",
    "    cols = [julianDayCol, 'Max ' + column, 'Min ' +  column]\n",
    "\n",
    "    days = np.asarray(data[julianDayCol].unique()).reshape((-1,1))\n",
    "    mxmn = np.asarray(mxmn_list)\n",
    "    \n",
    "    values = np.concatenate((days, mxmn), axis=1)\n",
    "    newdf = pd.DataFrame(values, columns = cols)\n",
    "    newdf['DATE'] = data[dateCol].unique()\n",
    "    newdf['days'] = newdf['days'].astype('uint8')\n",
    "    return newdf"
   ]
  },
  {
   "cell_type": "code",
   "execution_count": 10,
   "metadata": {},
   "outputs": [],
   "source": [
    "def generate_report(fileName, files, pathToLoad, pathToSave):\n",
    "    from PIL import Image\n",
    "    \n",
    "    image = list()\n",
    "    for file in files:\n",
    "        img = Image.open(pathToLoad+file)\n",
    "        img = img.convert('RGB')\n",
    "        image.append(img)\n",
    "\n",
    "    image[0].save(pathToSave+fileName+'.pdf',save_all=True, append_images=image[1:])"
   ]
  },
  {
   "cell_type": "markdown",
   "metadata": {},
   "source": [
    "##  Data"
   ]
  },
  {
   "cell_type": "code",
   "execution_count": 11,
   "metadata": {},
   "outputs": [],
   "source": [
    "dataPath     = \"../dataset/campinas/\"\n",
    "IDs = ['Campinas-Taquaral', 'VilaProstSouza']"
   ]
  },
  {
   "cell_type": "code",
   "execution_count": 12,
   "metadata": {},
   "outputs": [],
   "source": [
    "dataSet = dict()\n",
    "\n",
    "#It opens them\n",
    "for file in IDs:\n",
    "    data = pd.read_csv(dataPath+file+'.csv', low_memory=False)\n",
    "    data = data.dropna(axis = 0, how = 'all')\n",
    "    dataSet[file] = data"
   ]
  },
  {
   "cell_type": "markdown",
   "metadata": {},
   "source": [
    "## Sumarize Data"
   ]
  },
  {
   "cell_type": "code",
   "execution_count": 13,
   "metadata": {},
   "outputs": [],
   "source": [
    "hrDataSet = dict()\n",
    "\n",
    "for station in dataSet:\n",
    "    data = dataSet[station]\n",
    "\n",
    "    data = getJulianDay(data, 'Date', 'Year', 'Month', 'Day')\n",
    "    newdf = getMaxMin(data, 'Temperature (C)', 'Date', 'days')\n",
    "    hrDataSet[station] = newdf"
   ]
  },
  {
   "cell_type": "markdown",
   "metadata": {},
   "source": [
    "## 1981-2010 Climate Normal"
   ]
  },
  {
   "cell_type": "code",
   "execution_count": 14,
   "metadata": {},
   "outputs": [],
   "source": [
    "cnDataSet = dict()\n",
    "\n",
    "IDs = ['IAC_1890_2014']\n",
    "dataPath = \"../dataset/campinas/\"\n",
    "\n",
    "#It opens them\n",
    "for ID in IDs:\n",
    "    data = pd.read_csv(dataPath+str(ID)+'.csv', low_memory=False)\n",
    "    data = data.dropna(axis = 0, how = 'all')\n",
    "    data = data[data['YEAR'] >= 1980]\n",
    "    data = data[data['YEAR'] <= 2010]\n",
    "    cnDataSet[str(ID)] = data"
   ]
  },
  {
   "cell_type": "markdown",
   "metadata": {},
   "source": [
    "## Heatwave Analysis"
   ]
  },
  {
   "cell_type": "code",
   "execution_count": 15,
   "metadata": {},
   "outputs": [],
   "source": [
    "import climahe.climatex as ew"
   ]
  },
  {
   "cell_type": "code",
   "execution_count": 16,
   "metadata": {},
   "outputs": [],
   "source": [
    "for code in hrDataSet:\n",
    "    hrDataSet[code].rename(columns={\"Date/Time\": \"DATE\"}, inplace=True)\n",
    "    hrDataSet[code] = hrDataSet[code][['Max Temperature (C)','Min Temperature (C)','DATE']]"
   ]
  },
  {
   "cell_type": "code",
   "execution_count": 17,
   "metadata": {},
   "outputs": [],
   "source": [
    "for code in cnDataSet:\n",
    "    cnDataSet[code].rename(columns={\"Date/Time\": \"DATE\"}, inplace=True)\n",
    "    cnDataSet[code]= cnDataSet[code][['TMAX','TMIN','DATE']]"
   ]
  },
  {
   "cell_type": "code",
   "execution_count": 18,
   "metadata": {},
   "outputs": [],
   "source": [
    "crDataSet = hrDataSet.copy()"
   ]
  },
  {
   "cell_type": "code",
   "execution_count": 19,
   "metadata": {
    "scrolled": false
   },
   "outputs": [
    {
     "name": "stdout",
     "output_type": "stream",
     "text": [
      "Computing Heatwaves For Station: Campinas-Taquaral\n",
      "Computing Heatwaves For Station: VilaProstSouza\n",
      "Done.\n"
     ]
    }
   ],
   "source": [
    "#%%script false --no-raise-error\n",
    "\n",
    "#Run this cell just if you don't have the output saved in your machine. It takes almost 2h30 to complete this task.\n",
    "warnings.filterwarnings(\"ignore\")\n",
    "\n",
    "pcts = dict()\n",
    "climateNormal = cnDataSet['IAC_1890_2014']\n",
    "\n",
    "for i in hrDataSet:\n",
    "    print('Computing Heatwaves For Station: ' + i)\n",
    "    climateNormal['DATE'] = pd.to_datetime(climateNormal['DATE'])\n",
    "    hrDataSet[i]['DATE'] = pd.to_datetime(hrDataSet[i]['DATE'])\n",
    "    hrDataSet[i], pct_90 = ew.check_HeatWave(climatic_normal=climateNormal, pct_columnMAX='TMAX', \n",
    "                          pct_columnMIN='TMIN', cn_columnDay365 = 0, database=hrDataSet[i], \n",
    "                          db_columnMAX='Max Temperature (C)', db_columnMIN='Min Temperature (C)', db_columnDay365 = 0,\n",
    "                          db_complete=0, percentile_value=0.9, window_size=30)\n",
    "    pcts[i] = pct_90\n",
    "    hrDataSet[i].to_csv('heatwave_'+i+'.csv')\n",
    "print('Done.')"
   ]
  },
  {
   "cell_type": "code",
   "execution_count": 20,
   "metadata": {},
   "outputs": [
    {
     "name": "stdout",
     "output_type": "stream",
     "text": [
      "Computing Coldwaves For Station: Campinas-Taquaral\n",
      "Computing Coldwaves For Station: VilaProstSouza\n",
      "Done.\n"
     ]
    }
   ],
   "source": [
    "#%%script false --no-raise-error\n",
    "\n",
    "#Run this cell just if you don't have the output saved in your machine. It takes almost 2h30 to complete this task.\n",
    "warnings.filterwarnings(\"ignore\")\n",
    "pctsC = dict()\n",
    "\n",
    "for i in crDataSet:\n",
    "    print('Computing Coldwaves For Station: ' + i)\n",
    "    climateNormal['DATE'] = pd.to_datetime(climateNormal['DATE'])\n",
    "    crDataSet[i]['DATE'] = pd.to_datetime(crDataSet[i]['DATE'])\n",
    "    crDataSet[i], pct_10 = ew.check_ColdWave(climatic_normal=climateNormal, pct_columnMAX='TMAX', \n",
    "                          pct_columnMIN='TMIN', cn_columnDay365 = 0, database=crDataSet[i], \n",
    "                          db_columnMAX='Max Temperature (C)', db_columnMIN='Min Temperature (C)', db_columnDay365 = 0,\n",
    "                          db_complete=0, percentile_value=0.1, window_size=30)\n",
    "    pctsC[i] = pct_10\n",
    "    crDataSet[i].to_csv('coldwave_'+i+'.csv')\n",
    "print('Done.')"
   ]
  },
  {
   "cell_type": "code",
   "execution_count": 21,
   "metadata": {},
   "outputs": [],
   "source": [
    "def label_waves(data, waveType = 'HW'):\n",
    "    import numpy as np\n",
    "    from scipy.ndimage.measurements import label\n",
    "\n",
    "    array = np.asarray([data[waveType]])\n",
    "    structure = np.ones((3, 3), dtype=np.int)  # this defines the connection filter\n",
    "    labeled, ncomponents = label(array, structure)\n",
    "    \n",
    "    return labeled[0]"
   ]
  },
  {
   "cell_type": "code",
   "execution_count": 22,
   "metadata": {},
   "outputs": [],
   "source": [
    "def hcw_metrics_plot(data, xlabel, ylabel, title, bar_labels, colors, width = 0.25):\n",
    "    import matplotlib\n",
    "    import matplotlib.pyplot as plt\n",
    "    import numpy as np\n",
    "    \n",
    "    fig, ax = plt.subplots(data.shape[1],1,figsize=(32,16))\n",
    "    for i in range(data.shape[1]):\n",
    "        ax[i].bar(data.index, data.iloc[:,i].values, width, label=bar_labels[i], color = colors[i])\n",
    "\n",
    "        # Add some text for labels, title and custom x-axis tick labels, etc.\n",
    "        major_ticks = np.arange(0, data.iloc[:,i].values.max()+1)\n",
    "        ax[i].set_yticks(major_ticks)\n",
    "        ax[i].grid(which='both', axis='y', linestyle=':', linewidth='0.5', color='black')\n",
    "        ax[i].set_ylabel(ylabel[i])\n",
    "        ax[i].set_xlabel(xlabel)\n",
    "        ax[i].set_title(title)\n",
    "        ax[i].set_xticks(data.index)\n",
    "        ax[i].legend()\n",
    "        \n",
    "    fig.tight_layout()\n",
    "    return fig"
   ]
  },
  {
   "cell_type": "code",
   "execution_count": 23,
   "metadata": {},
   "outputs": [],
   "source": [
    "def HCW_waves_plot(fig, ax, x1, x2, y1, y2, xlabel, ylabel, legend1, legend2, title, color=['b','r']):\n",
    "    import matplotlib\n",
    "    \n",
    "    ax.set_title(title)\n",
    "    ax.set_xlabel(xlabel)\n",
    "    ax.set_ylabel(ylabel)\n",
    "    ax.plot(x1, y1, color=color[0], label= legend1)\n",
    "    ax.plot(x2, y2, color=color[1], label= legend2)\n",
    "    \n",
    "    # Turn on the minor TICKS, which are required for the minor GRID\n",
    "    ax.minorticks_on()\n",
    "\n",
    "    # Customize the major grid\n",
    "    #ax.grid(which='major', axis='y', linestyle='-', linewidth='0.5', color='black')\n",
    "    # Customize the minor grid\n",
    "    ax.grid(which='both', axis='y', linestyle=':', linewidth='0.5', color='black')\n",
    "    \n",
    "    handles, labels = ax.get_legend_handles_labels()\n",
    "    i = 0\n",
    "    while i < len(handles):\n",
    "        if type(handles[i]) != matplotlib.lines.Line2D and len(handles[i]) == 0:\n",
    "            handles.remove(handles[i])\n",
    "            labels.remove(labels[i])\n",
    "        else:\n",
    "            i+=1\n",
    "    \n",
    "    ax.legend(handles, labels, bbox_to_anchor=(0.9, 1.05))"
   ]
  },
  {
   "cell_type": "code",
   "execution_count": 24,
   "metadata": {},
   "outputs": [],
   "source": [
    "def HCW_pct_plot(fig, ax, dates, tmax, tmin, pct90mx, pct90mn, \n",
    "                 HW_dates, HW_tmax, HW_pct90mx, HW_tmin, HW_pct90mn, \n",
    "                 xlabel='', ylabel='', legend=['','','','',''], title='', waveType = 'HW'):\n",
    "    \n",
    "    import matplotlib\n",
    "    \n",
    "    x = dates[range(0,len(dates),5)]\n",
    "    \n",
    "    ax.set_title(title)\n",
    "    ax.set_xlabel(xlabel)\n",
    "    ax.set_ylabel(ylabel)\n",
    "    ax.set_xticks(x)\n",
    "    ax.set_xticklabels(x)\n",
    "    \n",
    "    ax.plot(dates, tmax, color='red', label= legend[0])\n",
    "    ax.plot(dates, tmin, color='blue', label= legend[1])\n",
    "    ax.plot(dates, pct90mx, color='red', linestyle='--', label = legend[2])\n",
    "    ax.plot(dates, pct90mn, color='blue', linestyle='--', label = legend[3])\n",
    "    \n",
    "    if waveType == 'HW':\n",
    "        for i in range(len(HW_tmax)):\n",
    "            if i > 0:\n",
    "                ax.fill_between(HW_dates[i], HW_tmax[i], HW_pct90mx[i], where=HW_tmax[i] > HW_pct90mx[i], \n",
    "                            facecolor='red', interpolate=False)\n",
    "                ax.fill_between(HW_dates[i], HW_tmin[i], HW_pct90mn[i], where=HW_tmin[i] > HW_pct90mn[i], \n",
    "                                facecolor='blue', interpolate=False)\n",
    "            else:\n",
    "                ax.fill_between(HW_dates[i], HW_tmax[i], HW_pct90mx[i], where=HW_tmax[i] > HW_pct90mx[i], \n",
    "                                facecolor='red', interpolate=False,label=legend[4])\n",
    "                ax.fill_between(HW_dates[i], HW_tmin[i], HW_pct90mn[i], where=HW_tmin[i] > HW_pct90mn[i], \n",
    "                                facecolor='blue', interpolate=False,label=legend[4])\n",
    "    if waveType == 'CW':\n",
    "        for i in range(len(HW_tmax)):\n",
    "            if i > 0:\n",
    "                ax.fill_between(HW_dates[i], HW_tmax[i], HW_pct90mx[i], where=HW_tmax[i] < HW_pct90mx[i], \n",
    "                            facecolor='red', interpolate=False)\n",
    "                ax.fill_between(HW_dates[i], HW_tmin[i], HW_pct90mn[i], where=HW_tmin[i] < HW_pct90mn[i], \n",
    "                                facecolor='blue', interpolate=False)\n",
    "            else:\n",
    "                ax.fill_between(HW_dates[i], HW_tmax[i], HW_pct90mx[i], where=HW_tmax[i] < HW_pct90mx[i], \n",
    "                                facecolor='red', interpolate=False,label=legend[4])\n",
    "                ax.fill_between(HW_dates[i], HW_tmin[i], HW_pct90mn[i], where=HW_tmin[i] < HW_pct90mn[i], \n",
    "                                facecolor='blue', interpolate=False,label=legend[4])\n",
    "        \n",
    "    \n",
    "    # Turn on the minor TICKS, which are required for the minor GRID\n",
    "    ax.minorticks_on()\n",
    "\n",
    "    # Customize the major grid\n",
    "    #ax.grid(which='major', axis='y', linestyle='-', linewidth='0.5', color='black')\n",
    "    # Customize the minor grid\n",
    "    ax.grid(which='both', axis='both', linestyle=':', linewidth='0.5', color='black')\n",
    "    \n",
    "    handles, labels = ax.get_legend_handles_labels()\n",
    "    i = 0\n",
    "    while i < len(handles):\n",
    "        if type(handles[i]) != matplotlib.lines.Line2D and type(handles[i]) != matplotlib.collections.PolyCollection and len(handles[i]) == 0:\n",
    "            handles.remove(handles[i])\n",
    "            labels.remove(labels[i])\n",
    "        else:\n",
    "            i+=1\n",
    "    \n",
    "    ax.legend(handles, labels, bbox_to_anchor=(0.9, 1.05))"
   ]
  },
  {
   "cell_type": "code",
   "execution_count": 25,
   "metadata": {},
   "outputs": [],
   "source": [
    "dataSet = dict()\n",
    "for key in hrDataSet:\n",
    "    hrDataSet[key].index = range(1, hrDataSet[key].shape[0]+1)\n",
    "    hrDataSet[key] = pd.concat([hrDataSet[key],pcts[key]], axis=1)\n",
    "    data = hrDataSet[key]\n",
    "    dataSet[key] = (data, ew.wave_metrics(data, 'HW'))"
   ]
  },
  {
   "cell_type": "code",
   "execution_count": 28,
   "metadata": {},
   "outputs": [
    {
     "name": "stdout",
     "output_type": "stream",
     "text": [
      "Ploting Heatwaves for Station Campinas-Taquaral...\n",
      "Ploting Heatwaves for Station VilaProstSouza...\n",
      "task finished.\n"
     ]
    }
   ],
   "source": [
    "# Turn interactive plotting off\n",
    "plt.ioff()\n",
    "path = \"Graphs/\"\n",
    "for key in dataSet:\n",
    "    print(\"Ploting Heatwaves for Station \"+key+'...')\n",
    "    name = key\n",
    "    \n",
    "    data = dataSet[key][0]\n",
    "    data = data.set_index('DATE')\n",
    "    year = data.index.year\n",
    "    for i in range(year.min(), year.max()+1):\n",
    "        mask = year == i\n",
    "        data = dataSet[key][0].iloc[mask]\n",
    "\n",
    "        y1 = data.loc[data['HW'] == 0]['Max Temperature (C)'].values\n",
    "        x1 = data.loc[data['HW'] == 0]['DATE'].values\n",
    "        y2 = data.loc[data['HW'] == 1]['Max Temperature (C)'].values\n",
    "        x2 = data.loc[data['HW'] == 1]['DATE'].values\n",
    "        \n",
    "        fig, ax = plt.subplots(1,1,figsize=(32,16))\n",
    "        HCW_waves_plot(fig, ax, pd.to_datetime(x1), pd.to_datetime(x2), y1, y2, 'Date', 'Max Temperature (°C)', 'Normal', 'Heatwave', \n",
    "                      \"Station: \"+name+\". Heatwave Analysis.\")\n",
    "        \n",
    "        fig.savefig(path+'heat-'+key+'-'+str(i)+'.png')\n",
    "        plt.close(fig)\n",
    "print('task finished.')"
   ]
  },
  {
   "cell_type": "code",
   "execution_count": 29,
   "metadata": {
    "scrolled": true
   },
   "outputs": [
    {
     "name": "stdout",
     "output_type": "stream",
     "text": [
      "Ploting Algorithm Demonstration for Station Campinas-Taquaral...\n",
      "Ploting Algorithm Demonstration for Station VilaProstSouza...\n",
      "task finished.\n"
     ]
    }
   ],
   "source": [
    "# Turn interactive plotting off\n",
    "plt.ioff()\n",
    "path = \"Graphs/\"\n",
    "for key in hrDataSet:\n",
    "    print(\"Ploting Algorithm Demonstration for Station \"+key+'...')\n",
    "    \n",
    "    name = key\n",
    "    \n",
    "    legend = ['Max Temperature', 'Min Temperature', '90th Tmax Percentile', '90th Tmin Percentile', 'Heatwave']\n",
    "    \n",
    "    data = dataSet[key][0]\n",
    "    data = data[(data['DAY365'] >= 215) & (data['DAY365'] <= 246)]\n",
    "    data = data.set_index('DATE')\n",
    "    year = data.index.year\n",
    "    for i in range(year.min(), year.max()+1):\n",
    "        mask = year == i\n",
    "        data = data.iloc[mask]\n",
    "    \n",
    "        dates = data['DAY365'].values\n",
    "        tmax, tmin = data['Max Temperature (C)'].values, data['Min Temperature (C)'].values\n",
    "        if year.min() == i:\n",
    "            pct90mx, pct90mn = data['CTX90pct'].values, data['CTN90pct'].values\n",
    "        else:\n",
    "            warnings.filterwarnings(\"ignore\")\n",
    "            data['CTX90pct'] = pct90mx\n",
    "            data['CTN90pct'] = pct90mn\n",
    "        \n",
    "        data['Heatwave Label'] = label_waves(data)\n",
    "\n",
    "        HW_dates = []\n",
    "        HW_tmax = []\n",
    "        HW_tmin = []\n",
    "        HW_pct90mx = []\n",
    "        HW_pct90mn = []\n",
    "        for label in data['Heatwave Label'].unique():\n",
    "            if label == 0:\n",
    "                continue\n",
    "            HW_dates.append(data.loc[data['Heatwave Label'] == label]['DAY365'].values)\n",
    "            HW_tmax.append(data.loc[data['Heatwave Label'] == label]['Max Temperature (C)'].values)\n",
    "            HW_tmin.append(data.loc[data['Heatwave Label'] == label]['Min Temperature (C)'].values)\n",
    "            HW_pct90mx.append(data.loc[data['Heatwave Label'] == label]['CTX90pct'].values)\n",
    "            HW_pct90mn.append(data.loc[data['Heatwave Label'] == label]['CTN90pct'].values)\n",
    "\n",
    "        title = 'Heatwave Analysis for year '+str(i)\n",
    "        fig, ax = plt.subplots(1,1,figsize=(32,16))\n",
    "        HCW_pct_plot(fig, ax, dates, tmax, tmin, pct90mx, pct90mn, \n",
    "                    HW_dates, HW_tmax, HW_pct90mx, HW_tmin, HW_pct90mn, \n",
    "                    xlabel='Day', ylabel='Temperature (°C)', legend=legend, title=title)\n",
    "\n",
    "        fig.savefig(path+'heat-alg-'+key+'-'+str(i)+'.png')\n",
    "        plt.close(fig)\n",
    "\n",
    "\n",
    "print('task finished.')"
   ]
  },
  {
   "cell_type": "code",
   "execution_count": 30,
   "metadata": {},
   "outputs": [],
   "source": [
    "dataSet = dict()\n",
    "for key in crDataSet:\n",
    "    crDataSet[key].index = range(1, crDataSet[key].shape[0]+1)\n",
    "    crDataSet[key] = pd.concat([crDataSet[key],pctsC[key]], axis=1)\n",
    "    data = crDataSet[key]\n",
    "    dataSet[key] = (data, ew.wave_metrics(data, 'CW'))"
   ]
  },
  {
   "cell_type": "code",
   "execution_count": 31,
   "metadata": {},
   "outputs": [
    {
     "name": "stdout",
     "output_type": "stream",
     "text": [
      "Ploting Coldwaves for Station Campinas-Taquaral...\n",
      "Ploting Coldwaves for Station VilaProstSouza...\n",
      "task finished.\n"
     ]
    }
   ],
   "source": [
    "# Turn interactive plotting off\n",
    "plt.ioff()\n",
    "path = \"Graphs/\"\n",
    "for key in dataSet:\n",
    "    print(\"Ploting Coldwaves for Station \"+key+'...')\n",
    "    name = key\n",
    "    \n",
    "    data = dataSet[key][0]\n",
    "    data = data.set_index('DATE')\n",
    "    year = data.index.year\n",
    "    for i in range(year.min(), year.max()+1):\n",
    "        mask = year == i\n",
    "        data = dataSet[key][0].iloc[mask]\n",
    "\n",
    "        y1 = data.loc[data['CW'] == 0]['Min Temperature (C)'].values\n",
    "        x1 = data.loc[data['CW'] == 0]['DATE'].values\n",
    "        y2 = data.loc[data['CW'] == 1]['Min Temperature (C)'].values\n",
    "        x2 = data.loc[data['CW'] == 1]['DATE'].values\n",
    "        \n",
    "        fig, ax = plt.subplots(1,1,figsize=(32,16))\n",
    "        HCW_waves_plot(fig, ax, pd.to_datetime(x1), pd.to_datetime(x2), y1, y2, 'Date', 'Min Temperature (°C)', 'Normal', 'Coldwave', \n",
    "                      \"Station: \"+name+\". Coldwave Analysis.\", color=['b','k'])\n",
    "        \n",
    "        fig.savefig(path+\"cold-\"+key+'-'+str(i)+'.png')\n",
    "        plt.close(fig)\n",
    "print('task finished.')"
   ]
  },
  {
   "cell_type": "code",
   "execution_count": 34,
   "metadata": {
    "scrolled": false
   },
   "outputs": [
    {
     "name": "stdout",
     "output_type": "stream",
     "text": [
      "Ploting Algorithm Demonstration for Station Campinas-Taquaral...\n",
      "Ploting Algorithm Demonstration for Station VilaProstSouza...\n",
      "task finished.\n"
     ]
    }
   ],
   "source": [
    "# Turn interactive plotting off\n",
    "plt.ioff()\n",
    "path = \"Graphs/\"\n",
    "for key in hrDataSet:\n",
    "    print(\"Ploting Algorithm Demonstration for Station \"+key+'...')\n",
    "    \n",
    "    name = key\n",
    "    \n",
    "    legend = ['Max Temperature', 'Min Temperature', '90th Tmax Percentile', '90th Tmin Percentile', 'Coldwave']\n",
    "    \n",
    "    data = dataSet[key][0]\n",
    "    data = data[(data['DAY365'] >= 215) & (data['DAY365'] <= 246)]\n",
    "    data = data.set_index('DATE')\n",
    "    year = data.index.year\n",
    "    for i in range(year.min(), year.max()+1):\n",
    "        mask = year == i\n",
    "        data = data.iloc[mask]\n",
    "    \n",
    "        dates = data['DAY365'].values\n",
    "        tmax, tmin = data['Max Temperature (C)'].values, data['Min Temperature (C)'].values\n",
    "        if year.min() == i:\n",
    "            pct10mx, pct10mn = data['CTX10pct'].values, data['CTN10pct'].values\n",
    "        else:\n",
    "            warnings.filterwarnings(\"ignore\")\n",
    "            data['CTX10pct'] = pct10mx\n",
    "            data['CTN10pct'] = pct10mn\n",
    "        \n",
    "        data['Coldwave Label'] = label_waves(data, 'CW')\n",
    "\n",
    "        CW_dates = []\n",
    "        CW_tmax = []\n",
    "        CW_tmin = []\n",
    "        CW_pct10mx = []\n",
    "        CW_pct10mn = []\n",
    "        for label in data['Coldwave Label'].unique():\n",
    "            if label == 0:\n",
    "                continue\n",
    "            CW_dates.append(data.loc[data['Coldwave Label'] == label]['DAY365'].values)\n",
    "            CW_tmax.append(data.loc[data['Coldwave Label'] == label]['Max Temperature (C)'].values)\n",
    "            CW_tmin.append(data.loc[data['Coldwave Label'] == label]['Min Temperature (C)'].values)\n",
    "            CW_pct10mx.append(data.loc[data['Coldwave Label'] == label]['CTX10pct'].values)\n",
    "            CW_pct10mn.append(data.loc[data['Coldwave Label'] == label]['CTN10pct'].values)\n",
    "\n",
    "        title = 'Coldwave Analysis for year '+str(i)\n",
    "        fig, ax = plt.subplots(1,1,figsize=(32,16))\n",
    "        HCW_pct_plot(fig, ax, dates, tmax, tmin, pct10mx, pct10mn, \n",
    "                    CW_dates, CW_tmax, CW_pct10mx, CW_tmin, CW_pct10mn, \n",
    "                    xlabel='Day', ylabel='Temperature (°C)', legend=legend, title=title, waveType='CW')\n",
    "\n",
    "        fig.savefig(path+'cold-alg-'+key+'-'+str(i)+'.png')\n",
    "        plt.close(fig)\n",
    "\n",
    "\n",
    "print('task finished.')"
   ]
  },
  {
   "cell_type": "code",
   "execution_count": 43,
   "metadata": {},
   "outputs": [
    {
     "name": "stdout",
     "output_type": "stream",
     "text": [
      "Ploting Max Temp Comparison\n",
      "task finished.\n"
     ]
    }
   ],
   "source": [
    "# Turn interactive plotting off\n",
    "plt.ioff()\n",
    "path = \"Graphs/\"\n",
    "print(\"Ploting Max Temp Comparison\")\n",
    "\n",
    "data1 = dataSet['Campinas-Taquaral'][0]\n",
    "data2 = dataSet['VilaProstSouza'][0]\n",
    "\n",
    "y1 = data1['Max Temperature (C)'].values\n",
    "x1 = data1['DATE'].values\n",
    "y2 = data2['Max Temperature (C)'].values\n",
    "\n",
    "fig, ax = plt.subplots(1,1,figsize=(32,16))\n",
    "HCW_waves_plot(fig, ax, pd.to_datetime(x1), pd.to_datetime(x1), y1, y2, 'Date', 'Max Temperature (°C)', 'Outdoor', 'Indoor', \n",
    "              \"Max Temperature Comparison.\", color=['r','y'])\n",
    "\n",
    "fig.savefig(path+\"hotComparison\"+'.png')\n",
    "plt.close(fig)\n",
    "print('task finished.')"
   ]
  },
  {
   "cell_type": "code",
   "execution_count": 44,
   "metadata": {},
   "outputs": [
    {
     "name": "stdout",
     "output_type": "stream",
     "text": [
      "Ploting Min Temperature Comparison\n",
      "task finished.\n"
     ]
    }
   ],
   "source": [
    "# Turn interactive plotting off\n",
    "plt.ioff()\n",
    "path = \"Graphs/\"\n",
    "print(\"Ploting Min Temperature Comparison\")\n",
    "\n",
    "data1 = dataSet['Campinas-Taquaral'][0]\n",
    "data2 = dataSet['VilaProstSouza'][0]\n",
    "\n",
    "y1 = data1['Min Temperature (C)'].values\n",
    "x1 = data1['DATE'].values\n",
    "y2 = data2['Min Temperature (C)'].values\n",
    "\n",
    "fig, ax = plt.subplots(1,1,figsize=(32,16))\n",
    "HCW_waves_plot(fig, ax, pd.to_datetime(x1), pd.to_datetime(x1), y1, y2, 'Date', 'Min Temperature (°C)', 'Outdoor', 'Indoor', \n",
    "              \"Min Temperature Comparison.\", color=['b','cyan'])\n",
    "\n",
    "fig.savefig(path+\"coldComparison\"+'.png')\n",
    "plt.close(fig)\n",
    "print('task finished.')"
   ]
  }
 ],
 "metadata": {
  "kernelspec": {
   "display_name": "Python 3",
   "language": "python",
   "name": "python3"
  },
  "language_info": {
   "codemirror_mode": {
    "name": "ipython",
    "version": 3
   },
   "file_extension": ".py",
   "mimetype": "text/x-python",
   "name": "python",
   "nbconvert_exporter": "python",
   "pygments_lexer": "ipython3",
   "version": "3.8.3"
  }
 },
 "nbformat": 4,
 "nbformat_minor": 2
}
