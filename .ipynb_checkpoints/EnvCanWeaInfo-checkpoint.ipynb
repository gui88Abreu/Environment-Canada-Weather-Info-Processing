{
 "cells": [
  {
   "cell_type": "code",
   "execution_count": 3,
   "metadata": {},
   "outputs": [
    {
     "data": {
      "text/html": [
       "<style>.container { width:70% !important; }</style>"
      ],
      "text/plain": [
       "<IPython.core.display.HTML object>"
      ]
     },
     "metadata": {},
     "output_type": "display_data"
    }
   ],
   "source": [
    "from IPython.core.display import display, HTML\n",
    "display(HTML(\"<style>.container { width:70% !important; }</style>\"))"
   ]
  },
  {
   "cell_type": "code",
   "execution_count": 4,
   "metadata": {},
   "outputs": [],
   "source": [
    "import warnings"
   ]
  },
  {
   "cell_type": "code",
   "execution_count": 5,
   "metadata": {},
   "outputs": [
    {
     "name": "stdout",
     "output_type": "stream",
     "text": [
      "Couldn't find program: 'false'\n"
     ]
    }
   ],
   "source": [
    "%%script false --no-raise-error\n",
    "from IPython.display import HTML\n",
    "\n",
    "HTML('''<script>\n",
    "code_show=true; \n",
    "function code_toggle() {\n",
    " if (code_show){\n",
    " $('div.input').hide();\n",
    " } else {\n",
    " $('div.input').show();\n",
    " }\n",
    " code_show = !code_show\n",
    "} \n",
    "$( document ).ready(code_toggle);\n",
    "</script>\n",
    "<form action=\"javascript:code_toggle()\"><input type=\"submit\" value=\"Click here to toggle on/off the raw code.\"></form>''')"
   ]
  },
  {
   "cell_type": "code",
   "execution_count": 7,
   "metadata": {},
   "outputs": [],
   "source": [
    "import numpy as np\n",
    "import matplotlib.pyplot as plt\n",
    "import pandas as pd"
   ]
  },
  {
   "cell_type": "markdown",
   "metadata": {},
   "source": [
    "# Environment Canada Weather Information"
   ]
  },
  {
   "cell_type": "code",
   "execution_count": 8,
   "metadata": {},
   "outputs": [],
   "source": [
    "def countData(dataFrame, dictionary, column, dataQuantity, measName=''):\n",
    "    '''\n",
    "    Description: It calculate the pecentage of data available  \n",
    "    '''\n",
    "    dataSet = dictionary.copy()\n",
    "    newdf = dataFrame.copy()\n",
    "    pct = list()\n",
    "    for station in dataSet:\n",
    "        data = dataSet[station]\n",
    "        pct.append(round(100*data[column].count()/dataQuantity,2))\n",
    "        \n",
    "    newdf[measName+\" Available Data\"+' (%)'] = pct\n",
    "    return newdf"
   ]
  },
  {
   "cell_type": "code",
   "execution_count": 9,
   "metadata": {},
   "outputs": [],
   "source": [
    "def fltrbyDQ(dictionary, column, dataQuantity, threshold = 0.6):\n",
    "    '''\n",
    "    Description: Filter by Data Quantity. It returns a list with keys that don't have enough data according to the threshold passed.\n",
    "    '''\n",
    "    dataSet = dictionary.copy()\n",
    "    statList = list()\n",
    "    for station in dataSet:\n",
    "        data = dataSet[station]\n",
    "        if data[column].count()/dataQuantity < threshold:\n",
    "            statList.append(station)\n",
    "    return statList"
   ]
  },
  {
   "cell_type": "code",
   "execution_count": 10,
   "metadata": {},
   "outputs": [],
   "source": [
    "def removeItems(dictionary, keys):\n",
    "    '''\n",
    "    Description: Remove a list of keys from a dict object.\n",
    "    '''\n",
    "    d = dictionary.copy()\n",
    "    for key in keys:\n",
    "        d.pop(key)\n",
    "    return d"
   ]
  },
  {
   "cell_type": "code",
   "execution_count": 11,
   "metadata": {},
   "outputs": [],
   "source": [
    "# get Julian Day\n",
    "def getJulianDay(dt, dateCol, yearCol, monthCol, dayCol):\n",
    "    import datetime as dttm\n",
    "    \n",
    "    julianDayCol = \"days\"\n",
    "    \n",
    "    data = dt.copy()\n",
    "    \n",
    "    #split datetime into date and time columns\n",
    "    datetime = np.asarray([d.split(' ') for d in data[dateCol]], dtype='str')\n",
    "    data[dateCol] = datetime[:,0]\n",
    "    \n",
    "    # get year month and day from Date\n",
    "    date = np.asarray([d.split('-') for d in data[dateCol].values], dtype='uint16')\n",
    "    \n",
    "    # create new coluns\n",
    "    data[yearCol]  = date[:,0]\n",
    "    data[monthCol] = date[:,1]\n",
    "    data[dayCol]   = date[:,2]\n",
    "    data[julianDayCol] = 0\n",
    "    \n",
    "    for date in data[dateCol].unique():\n",
    "        d = dttm.datetime.strptime(date, \"%Y-%m-%d\") # get datetime object\n",
    "        data.loc[ (data[yearCol] == d.year) & (data[monthCol] == d.month) & (data[dayCol] == d.day), julianDayCol] = dttm.date(d.year,d.month,d.day).toordinal()\n",
    "    \n",
    "    data[julianDayCol] += 1 - data[julianDayCol].min()\n",
    "    return data\n",
    "\n",
    "def getMaxMin(dt, column, daysCol):\n",
    "    '''\n",
    "    Description:\n",
    "        It computes max and min value of the specified column passed for each day. \n",
    "        It returns a list with the values for each day.\n",
    "    Input:\n",
    "        column: The name of the column of interest.\n",
    "    Output:\n",
    "        A list with lists containing max and min value for each day. \n",
    "        As the following example:\n",
    "\n",
    "        returning list := [[max1,min1], [max2,min2], ...,[maxN,minN]]\n",
    "    '''\n",
    "    julianDayCol = daysCol \n",
    "    data = dt.copy()\n",
    "    \n",
    "    data = data.dropna(subset=[column])\n",
    "    \n",
    "    mxmn_list = list()\n",
    "    for day in data[julianDayCol].unique():\n",
    "        d = data[data[julianDayCol] == day] \n",
    "        mxmn_list.append([round(np.max(d[column]),2), round(np.min(d[column]),2)])\n",
    "    \n",
    "    cols = [julianDayCol, 'Max ' + column, 'Min ' +  column]\n",
    "\n",
    "    days = np.asarray(data[julianDayCol].unique()).reshape((-1,1))\n",
    "    mxmn = np.asarray(mxmn_list)\n",
    "    \n",
    "    values = np.concatenate((days, mxmn), axis=1)\n",
    "    newdf = pd.DataFrame(values, columns = cols)\n",
    "    newdf['DATE'] = data['Date/Time'].unique()\n",
    "    newdf['days'] = newdf['days'].astype('uint8')\n",
    "    return newdf"
   ]
  },
  {
   "cell_type": "markdown",
   "metadata": {},
   "source": [
    "##  Data"
   ]
  },
  {
   "cell_type": "code",
   "execution_count": 30,
   "metadata": {},
   "outputs": [],
   "source": [
    "closestT = {'5574':'53001', '5415':'51157'}"
   ]
  },
  {
   "cell_type": "code",
   "execution_count": 31,
   "metadata": {},
   "outputs": [],
   "source": [
    "dataPath     = \"../dataset/envcan/\"\n",
    "IDs = ['51157', '53001']\n",
    "from datetime import date\n",
    "delta = date(2018, 8, 31) - date(2018, 6, 1)"
   ]
  },
  {
   "cell_type": "code",
   "execution_count": 32,
   "metadata": {},
   "outputs": [],
   "source": [
    "dataSet = dict()\n",
    "\n",
    "#It opens them\n",
    "for file in IDs:\n",
    "    data = pd.read_csv(dataPath+file+'.csv')\n",
    "    data = data.dropna(axis = 0, how = 'all')\n",
    "    dataSet[file] = data"
   ]
  },
  {
   "cell_type": "code",
   "execution_count": 33,
   "metadata": {},
   "outputs": [],
   "source": [
    "hrDataSet = dict()\n",
    "\n",
    "for station in dataSet:\n",
    "    data = dataSet[station]\n",
    "\n",
    "    data = getJulianDay(data, 'Date/Time', 'Year', 'Month', 'Day')\n",
    "    newdf = getMaxMin(data, 'Temp (°C)', 'days')\n",
    "    hrDataSet[station] = newdf"
   ]
  },
  {
   "cell_type": "markdown",
   "metadata": {},
   "source": [
    "## 1981-2010 Climate Normal"
   ]
  },
  {
   "cell_type": "code",
   "execution_count": 34,
   "metadata": {},
   "outputs": [],
   "source": [
    "cnDataSet = dict()\n",
    "\n",
    "IDs = ['5574', '5415']\n",
    "dataPath = \"../dataset/envcan/\"\n",
    "\n",
    "#It opens them\n",
    "for ID in IDs:\n",
    "    data = pd.read_csv(dataPath+str(ID)+'.csv')\n",
    "    data = data.dropna(axis = 0, how = 'all')\n",
    "    cnDataSet[str(ID)] = data"
   ]
  },
  {
   "cell_type": "markdown",
   "metadata": {},
   "source": [
    "## Heatwave Analysis"
   ]
  },
  {
   "cell_type": "code",
   "execution_count": 39,
   "metadata": {},
   "outputs": [],
   "source": [
    "import Extreme_Waves as ew"
   ]
  },
  {
   "cell_type": "code",
   "execution_count": 40,
   "metadata": {},
   "outputs": [],
   "source": [
    "for code in hrDataSet:\n",
    "    hrDataSet[code].rename(columns={\"Date/Time\": \"DATE\"}, inplace=True)\n",
    "    hrDataSet[code] = hrDataSet[code][['Max Temp (°C)','Min Temp (°C)','DATE']]"
   ]
  },
  {
   "cell_type": "code",
   "execution_count": 41,
   "metadata": {},
   "outputs": [],
   "source": [
    "for code in cnDataSet:\n",
    "    cnDataSet[code].rename(columns={\"Date/Time\": \"DATE\"}, inplace=True)\n",
    "    cnDataSet[code]= cnDataSet[code][['Max Temp (°C)','Min Temp (°C)','DATE']]"
   ]
  },
  {
   "cell_type": "code",
   "execution_count": 53,
   "metadata": {
    "scrolled": false
   },
   "outputs": [
    {
     "name": "stdout",
     "output_type": "stream",
     "text": [
      "Computing Heatwaves For Station: 53001\n"
     ]
    },
    {
     "ename": "ValueError",
     "evalue": "No axis named 1 for object type <class 'pandas.core.series.Series'>",
     "output_type": "error",
     "traceback": [
      "\u001b[1;31m---------------------------------------------------------------------------\u001b[0m",
      "\u001b[1;31mValueError\u001b[0m                                Traceback (most recent call last)",
      "\u001b[1;32m<ipython-input-53-d74ebf8ba75f>\u001b[0m in \u001b[0;36m<module>\u001b[1;34m\u001b[0m\n\u001b[0;32m      8\u001b[0m     \u001b[0mcnDataSet\u001b[0m\u001b[1;33m[\u001b[0m\u001b[0mi\u001b[0m\u001b[1;33m]\u001b[0m\u001b[1;33m[\u001b[0m\u001b[1;34m'DATE'\u001b[0m\u001b[1;33m]\u001b[0m \u001b[1;33m=\u001b[0m \u001b[0mpd\u001b[0m\u001b[1;33m.\u001b[0m\u001b[0mto_datetime\u001b[0m\u001b[1;33m(\u001b[0m\u001b[0mcnDataSet\u001b[0m\u001b[1;33m[\u001b[0m\u001b[0mi\u001b[0m\u001b[1;33m]\u001b[0m\u001b[1;33m[\u001b[0m\u001b[1;34m'DATE'\u001b[0m\u001b[1;33m]\u001b[0m\u001b[1;33m)\u001b[0m\u001b[1;33m\u001b[0m\u001b[1;33m\u001b[0m\u001b[0m\n\u001b[0;32m      9\u001b[0m     \u001b[0mhrDataSet\u001b[0m\u001b[1;33m[\u001b[0m\u001b[0mclosestT\u001b[0m\u001b[1;33m[\u001b[0m\u001b[0mi\u001b[0m\u001b[1;33m]\u001b[0m\u001b[1;33m]\u001b[0m\u001b[1;33m[\u001b[0m\u001b[1;34m'DATE'\u001b[0m\u001b[1;33m]\u001b[0m \u001b[1;33m=\u001b[0m \u001b[0mpd\u001b[0m\u001b[1;33m.\u001b[0m\u001b[0mto_datetime\u001b[0m\u001b[1;33m(\u001b[0m\u001b[0mhrDataSet\u001b[0m\u001b[1;33m[\u001b[0m\u001b[0mclosestT\u001b[0m\u001b[1;33m[\u001b[0m\u001b[0mi\u001b[0m\u001b[1;33m]\u001b[0m\u001b[1;33m]\u001b[0m\u001b[1;33m[\u001b[0m\u001b[1;34m'DATE'\u001b[0m\u001b[1;33m]\u001b[0m\u001b[1;33m)\u001b[0m\u001b[1;33m\u001b[0m\u001b[1;33m\u001b[0m\u001b[0m\n\u001b[1;32m---> 10\u001b[1;33m     hrDataSet[closestT[i]] = ew.check_HeatWave(climatic_normal=cnDataSet[i], pct_columnMAX='Max Temp (°C)', \n\u001b[0m\u001b[0;32m     11\u001b[0m                           \u001b[0mpct_columnMIN\u001b[0m\u001b[1;33m=\u001b[0m\u001b[1;34m'Min Temp (°C)'\u001b[0m\u001b[1;33m,\u001b[0m \u001b[0mcn_columnDay365\u001b[0m \u001b[1;33m=\u001b[0m \u001b[1;36m0\u001b[0m\u001b[1;33m,\u001b[0m \u001b[0mdatabase\u001b[0m\u001b[1;33m=\u001b[0m\u001b[0mhrDataSet\u001b[0m\u001b[1;33m[\u001b[0m\u001b[0mclosestT\u001b[0m\u001b[1;33m[\u001b[0m\u001b[0mi\u001b[0m\u001b[1;33m]\u001b[0m\u001b[1;33m]\u001b[0m\u001b[1;33m,\u001b[0m\u001b[1;33m\u001b[0m\u001b[1;33m\u001b[0m\u001b[0m\n\u001b[0;32m     12\u001b[0m                           \u001b[0mdb_columnMAX\u001b[0m\u001b[1;33m=\u001b[0m\u001b[1;34m'Max Temp (°C)'\u001b[0m\u001b[1;33m,\u001b[0m \u001b[0mdb_columnMIN\u001b[0m\u001b[1;33m=\u001b[0m\u001b[1;34m'Min Temp (°C)'\u001b[0m\u001b[1;33m,\u001b[0m \u001b[0mdb_columnDay365\u001b[0m \u001b[1;33m=\u001b[0m \u001b[1;36m0\u001b[0m\u001b[1;33m,\u001b[0m\u001b[1;33m\u001b[0m\u001b[1;33m\u001b[0m\u001b[0m\n",
      "\u001b[1;32m~\\Documents\\GIT-REPOSITORIES\\Environment-Canada-Weather-Info-Processing\\Extreme_Waves.py\u001b[0m in \u001b[0;36mcheck_HeatWave\u001b[1;34m(climatic_normal, pct_columnMAX, pct_columnMIN, cn_columnDay365, database, db_columnMAX, db_columnMIN, db_columnDay365, db_complete, percentile_value, window_size)\u001b[0m\n\u001b[0;32m    341\u001b[0m     \u001b[0mdf_wave\u001b[0m \u001b[1;33m=\u001b[0m \u001b[0mget_abovePct\u001b[0m\u001b[1;33m(\u001b[0m\u001b[0mdatabase\u001b[0m\u001b[1;33m,\u001b[0m\u001b[0mdf_pct\u001b[0m\u001b[1;33m,\u001b[0m\u001b[0mdb_columnMAX\u001b[0m\u001b[1;33m,\u001b[0m\u001b[0mdb_columnMIN\u001b[0m\u001b[1;33m)\u001b[0m \u001b[1;31m#df_wave receives the database plus 'above_pct' column\u001b[0m\u001b[1;33m\u001b[0m\u001b[1;33m\u001b[0m\u001b[0m\n\u001b[0;32m    342\u001b[0m \u001b[1;33m\u001b[0m\u001b[0m\n\u001b[1;32m--> 343\u001b[1;33m     \u001b[0mdf_checkHW\u001b[0m\u001b[1;33m=\u001b[0m\u001b[0mget_wave\u001b[0m\u001b[1;33m(\u001b[0m\u001b[0mdf_wave\u001b[0m\u001b[1;33m,\u001b[0m\u001b[1;34m'HW'\u001b[0m\u001b[1;33m,\u001b[0m\u001b[1;34m'above_pct'\u001b[0m\u001b[1;33m)\u001b[0m \u001b[1;31m#df_checkHW receives the database plus 'above_pct' column and wave_column 'HW' column\u001b[0m\u001b[1;33m\u001b[0m\u001b[1;33m\u001b[0m\u001b[0m\n\u001b[0m\u001b[0;32m    344\u001b[0m \u001b[1;33m\u001b[0m\u001b[0m\n\u001b[0;32m    345\u001b[0m     \u001b[1;32mreturn\u001b[0m \u001b[0mdf_checkHW\u001b[0m\u001b[1;33m\u001b[0m\u001b[1;33m\u001b[0m\u001b[0m\n",
      "\u001b[1;32m~\\Documents\\GIT-REPOSITORIES\\Environment-Canada-Weather-Info-Processing\\Extreme_Waves.py\u001b[0m in \u001b[0;36mget_wave\u001b[1;34m(df_wave, wave_column, extremeDays_column)\u001b[0m\n\u001b[0;32m    243\u001b[0m \u001b[1;32mdef\u001b[0m \u001b[0mget_wave\u001b[0m\u001b[1;33m(\u001b[0m\u001b[0mdf_wave\u001b[0m\u001b[1;33m,\u001b[0m\u001b[0mwave_column\u001b[0m\u001b[1;33m,\u001b[0m\u001b[0mextremeDays_column\u001b[0m\u001b[1;33m)\u001b[0m\u001b[1;33m:\u001b[0m\u001b[1;33m\u001b[0m\u001b[1;33m\u001b[0m\u001b[0m\n\u001b[0;32m    244\u001b[0m     \u001b[0mcheck_pattern\u001b[0m \u001b[1;33m=\u001b[0m \u001b[0mdf_wave\u001b[0m\u001b[1;33m.\u001b[0m\u001b[0mrolling\u001b[0m\u001b[1;33m(\u001b[0m\u001b[1;36m3\u001b[0m\u001b[1;33m)\u001b[0m\u001b[1;33m[\u001b[0m\u001b[0mextremeDays_column\u001b[0m\u001b[1;33m]\u001b[0m\u001b[1;33m.\u001b[0m\u001b[0mapply\u001b[0m\u001b[1;33m(\u001b[0m\u001b[1;32mlambda\u001b[0m \u001b[0mx\u001b[0m\u001b[1;33m:\u001b[0m \u001b[0mall\u001b[0m\u001b[1;33m(\u001b[0m\u001b[0mnp\u001b[0m\u001b[1;33m.\u001b[0m\u001b[0mequal\u001b[0m\u001b[1;33m(\u001b[0m\u001b[0mx\u001b[0m\u001b[1;33m,\u001b[0m \u001b[1;33m[\u001b[0m\u001b[1;36m1\u001b[0m\u001b[1;33m,\u001b[0m\u001b[1;36m1\u001b[0m\u001b[1;33m,\u001b[0m\u001b[1;36m1\u001b[0m\u001b[1;33m]\u001b[0m\u001b[1;33m)\u001b[0m\u001b[1;33m)\u001b[0m\u001b[1;33m,\u001b[0m\u001b[0mraw\u001b[0m\u001b[1;33m=\u001b[0m\u001b[1;32mTrue\u001b[0m\u001b[1;33m)\u001b[0m \u001b[1;31m#use rolling to check for the pattern 111 in the above_pct/below_pct column\u001b[0m\u001b[1;33m\u001b[0m\u001b[1;33m\u001b[0m\u001b[0m\n\u001b[1;32m--> 245\u001b[1;33m     \u001b[0mcheck_pattern\u001b[0m \u001b[1;33m=\u001b[0m \u001b[0mcheck_pattern\u001b[0m\u001b[1;33m.\u001b[0m\u001b[0msum\u001b[0m\u001b[1;33m(\u001b[0m\u001b[0maxis\u001b[0m \u001b[1;33m=\u001b[0m \u001b[1;36m1\u001b[0m\u001b[1;33m)\u001b[0m\u001b[1;33m.\u001b[0m\u001b[0mastype\u001b[0m\u001b[1;33m(\u001b[0m\u001b[0mbool\u001b[0m\u001b[1;33m)\u001b[0m\u001b[1;33m\u001b[0m\u001b[1;33m\u001b[0m\u001b[0m\n\u001b[0m\u001b[0;32m    246\u001b[0m     \u001b[0mpattern_idx\u001b[0m \u001b[1;33m=\u001b[0m \u001b[0mnp\u001b[0m\u001b[1;33m.\u001b[0m\u001b[0mwhere\u001b[0m\u001b[1;33m(\u001b[0m\u001b[0mcheck_pattern\u001b[0m\u001b[1;33m)\u001b[0m\u001b[1;33m[\u001b[0m\u001b[1;36m0\u001b[0m\u001b[1;33m]\u001b[0m \u001b[1;31m#gets the index of the last ocurrence of '1' for each sequence\u001b[0m\u001b[1;33m\u001b[0m\u001b[1;33m\u001b[0m\u001b[0m\n\u001b[0;32m    247\u001b[0m \u001b[1;33m\u001b[0m\u001b[0m\n",
      "\u001b[1;32m~\\Anaconda3\\lib\\site-packages\\pandas\\core\\generic.py\u001b[0m in \u001b[0;36mstat_func\u001b[1;34m(self, axis, skipna, level, numeric_only, min_count, **kwargs)\u001b[0m\n\u001b[0;32m  11174\u001b[0m                 \u001b[0mname\u001b[0m\u001b[1;33m,\u001b[0m \u001b[0maxis\u001b[0m\u001b[1;33m=\u001b[0m\u001b[0maxis\u001b[0m\u001b[1;33m,\u001b[0m \u001b[0mlevel\u001b[0m\u001b[1;33m=\u001b[0m\u001b[0mlevel\u001b[0m\u001b[1;33m,\u001b[0m \u001b[0mskipna\u001b[0m\u001b[1;33m=\u001b[0m\u001b[0mskipna\u001b[0m\u001b[1;33m,\u001b[0m \u001b[0mmin_count\u001b[0m\u001b[1;33m=\u001b[0m\u001b[0mmin_count\u001b[0m\u001b[1;33m\u001b[0m\u001b[1;33m\u001b[0m\u001b[0m\n\u001b[0;32m  11175\u001b[0m             )\n\u001b[1;32m> 11176\u001b[1;33m         return self._reduce(\n\u001b[0m\u001b[0;32m  11177\u001b[0m             \u001b[0mf\u001b[0m\u001b[1;33m,\u001b[0m\u001b[1;33m\u001b[0m\u001b[1;33m\u001b[0m\u001b[0m\n\u001b[0;32m  11178\u001b[0m             \u001b[0mname\u001b[0m\u001b[1;33m,\u001b[0m\u001b[1;33m\u001b[0m\u001b[1;33m\u001b[0m\u001b[0m\n",
      "\u001b[1;32m~\\Anaconda3\\lib\\site-packages\\pandas\\core\\series.py\u001b[0m in \u001b[0;36m_reduce\u001b[1;34m(self, op, name, axis, skipna, numeric_only, filter_type, **kwds)\u001b[0m\n\u001b[0;32m   3867\u001b[0m \u001b[1;33m\u001b[0m\u001b[0m\n\u001b[0;32m   3868\u001b[0m         \u001b[1;32mif\u001b[0m \u001b[0maxis\u001b[0m \u001b[1;32mis\u001b[0m \u001b[1;32mnot\u001b[0m \u001b[1;32mNone\u001b[0m\u001b[1;33m:\u001b[0m\u001b[1;33m\u001b[0m\u001b[1;33m\u001b[0m\u001b[0m\n\u001b[1;32m-> 3869\u001b[1;33m             \u001b[0mself\u001b[0m\u001b[1;33m.\u001b[0m\u001b[0m_get_axis_number\u001b[0m\u001b[1;33m(\u001b[0m\u001b[0maxis\u001b[0m\u001b[1;33m)\u001b[0m\u001b[1;33m\u001b[0m\u001b[1;33m\u001b[0m\u001b[0m\n\u001b[0m\u001b[0;32m   3870\u001b[0m \u001b[1;33m\u001b[0m\u001b[0m\n\u001b[0;32m   3871\u001b[0m         \u001b[1;32mif\u001b[0m \u001b[0misinstance\u001b[0m\u001b[1;33m(\u001b[0m\u001b[0mdelegate\u001b[0m\u001b[1;33m,\u001b[0m \u001b[0mCategorical\u001b[0m\u001b[1;33m)\u001b[0m\u001b[1;33m:\u001b[0m\u001b[1;33m\u001b[0m\u001b[1;33m\u001b[0m\u001b[0m\n",
      "\u001b[1;32m~\\Anaconda3\\lib\\site-packages\\pandas\\core\\generic.py\u001b[0m in \u001b[0;36m_get_axis_number\u001b[1;34m(cls, axis)\u001b[0m\n\u001b[0;32m    405\u001b[0m             \u001b[1;32mexcept\u001b[0m \u001b[0mKeyError\u001b[0m\u001b[1;33m:\u001b[0m\u001b[1;33m\u001b[0m\u001b[1;33m\u001b[0m\u001b[0m\n\u001b[0;32m    406\u001b[0m                 \u001b[1;32mpass\u001b[0m\u001b[1;33m\u001b[0m\u001b[1;33m\u001b[0m\u001b[0m\n\u001b[1;32m--> 407\u001b[1;33m         \u001b[1;32mraise\u001b[0m \u001b[0mValueError\u001b[0m\u001b[1;33m(\u001b[0m\u001b[1;34mf\"No axis named {axis} for object type {cls}\"\u001b[0m\u001b[1;33m)\u001b[0m\u001b[1;33m\u001b[0m\u001b[1;33m\u001b[0m\u001b[0m\n\u001b[0m\u001b[0;32m    408\u001b[0m \u001b[1;33m\u001b[0m\u001b[0m\n\u001b[0;32m    409\u001b[0m     \u001b[1;33m@\u001b[0m\u001b[0mclassmethod\u001b[0m\u001b[1;33m\u001b[0m\u001b[1;33m\u001b[0m\u001b[0m\n",
      "\u001b[1;31mValueError\u001b[0m: No axis named 1 for object type <class 'pandas.core.series.Series'>"
     ]
    }
   ],
   "source": [
    "#%%script false --no-raise-error\n",
    "\n",
    "#Run this cell just if you don't have the output saved in your machine. It takes almost 2h30 to complete this task.\n",
    "warnings.filterwarnings(\"ignore\")\n",
    "\n",
    "for i in closestT:\n",
    "    print('Computing Heatwaves For Station: ' + str(closestT[i]))\n",
    "    cnDataSet[i]['DATE'] = pd.to_datetime(cnDataSet[i]['DATE'])\n",
    "    hrDataSet[closestT[i]]['DATE'] = pd.to_datetime(hrDataSet[closestT[i]]['DATE'])\n",
    "    hrDataSet[closestT[i]] = ew.check_HeatWave(climatic_normal=cnDataSet[i], pct_columnMAX='Max Temp (°C)', \n",
    "                          pct_columnMIN='Min Temp (°C)', cn_columnDay365 = 0, database=hrDataSet[closestT[i]], \n",
    "                          db_columnMAX='Max Temp (°C)', db_columnMIN='Min Temp (°C)', db_columnDay365 = 0,\n",
    "                          db_complete=0, percentile_value=0.9, window_size=30)\n",
    "    hrDataSet[closestT[i]].to_csv('heatwave_'+key+'.csv')"
   ]
  },
  {
   "cell_type": "code",
   "execution_count": 52,
   "metadata": {},
   "outputs": [
    {
     "data": {
      "text/html": [
       "<div>\n",
       "<style scoped>\n",
       "    .dataframe tbody tr th:only-of-type {\n",
       "        vertical-align: middle;\n",
       "    }\n",
       "\n",
       "    .dataframe tbody tr th {\n",
       "        vertical-align: top;\n",
       "    }\n",
       "\n",
       "    .dataframe thead th {\n",
       "        text-align: right;\n",
       "    }\n",
       "</style>\n",
       "<table border=\"1\" class=\"dataframe\">\n",
       "  <thead>\n",
       "    <tr style=\"text-align: right;\">\n",
       "      <th></th>\n",
       "      <th>Max Temp (°C)</th>\n",
       "      <th>Min Temp (°C)</th>\n",
       "      <th>DATE</th>\n",
       "      <th>DAY365</th>\n",
       "    </tr>\n",
       "  </thead>\n",
       "  <tbody>\n",
       "    <tr>\n",
       "      <th>0</th>\n",
       "      <td>17.6</td>\n",
       "      <td>7.8</td>\n",
       "      <td>2015-06-01</td>\n",
       "      <td>152</td>\n",
       "    </tr>\n",
       "    <tr>\n",
       "      <th>1</th>\n",
       "      <td>16.0</td>\n",
       "      <td>6.8</td>\n",
       "      <td>2015-06-02</td>\n",
       "      <td>153</td>\n",
       "    </tr>\n",
       "    <tr>\n",
       "      <th>2</th>\n",
       "      <td>21.0</td>\n",
       "      <td>6.5</td>\n",
       "      <td>2015-06-03</td>\n",
       "      <td>154</td>\n",
       "    </tr>\n",
       "    <tr>\n",
       "      <th>3</th>\n",
       "      <td>25.5</td>\n",
       "      <td>7.8</td>\n",
       "      <td>2015-06-04</td>\n",
       "      <td>155</td>\n",
       "    </tr>\n",
       "    <tr>\n",
       "      <th>4</th>\n",
       "      <td>21.2</td>\n",
       "      <td>12.3</td>\n",
       "      <td>2015-06-05</td>\n",
       "      <td>156</td>\n",
       "    </tr>\n",
       "    <tr>\n",
       "      <th>...</th>\n",
       "      <td>...</td>\n",
       "      <td>...</td>\n",
       "      <td>...</td>\n",
       "      <td>...</td>\n",
       "    </tr>\n",
       "    <tr>\n",
       "      <th>455</th>\n",
       "      <td>25.2</td>\n",
       "      <td>11.5</td>\n",
       "      <td>2019-08-27</td>\n",
       "      <td>239</td>\n",
       "    </tr>\n",
       "    <tr>\n",
       "      <th>456</th>\n",
       "      <td>22.5</td>\n",
       "      <td>18.0</td>\n",
       "      <td>2019-08-28</td>\n",
       "      <td>240</td>\n",
       "    </tr>\n",
       "    <tr>\n",
       "      <th>457</th>\n",
       "      <td>23.4</td>\n",
       "      <td>12.9</td>\n",
       "      <td>2019-08-29</td>\n",
       "      <td>241</td>\n",
       "    </tr>\n",
       "    <tr>\n",
       "      <th>458</th>\n",
       "      <td>22.1</td>\n",
       "      <td>14.8</td>\n",
       "      <td>2019-08-30</td>\n",
       "      <td>242</td>\n",
       "    </tr>\n",
       "    <tr>\n",
       "      <th>459</th>\n",
       "      <td>20.5</td>\n",
       "      <td>9.0</td>\n",
       "      <td>2019-08-31</td>\n",
       "      <td>243</td>\n",
       "    </tr>\n",
       "  </tbody>\n",
       "</table>\n",
       "<p>460 rows × 4 columns</p>\n",
       "</div>"
      ],
      "text/plain": [
       "     Max Temp (°C)  Min Temp (°C)       DATE  DAY365\n",
       "0             17.6            7.8 2015-06-01     152\n",
       "1             16.0            6.8 2015-06-02     153\n",
       "2             21.0            6.5 2015-06-03     154\n",
       "3             25.5            7.8 2015-06-04     155\n",
       "4             21.2           12.3 2015-06-05     156\n",
       "..             ...            ...        ...     ...\n",
       "455           25.2           11.5 2019-08-27     239\n",
       "456           22.5           18.0 2019-08-28     240\n",
       "457           23.4           12.9 2019-08-29     241\n",
       "458           22.1           14.8 2019-08-30     242\n",
       "459           20.5            9.0 2019-08-31     243\n",
       "\n",
       "[460 rows x 4 columns]"
      ]
     },
     "execution_count": 52,
     "metadata": {},
     "output_type": "execute_result"
    }
   ],
   "source": [
    "hrDataSet[closestT[i]]"
   ]
  },
  {
   "cell_type": "code",
   "execution_count": 58,
   "metadata": {},
   "outputs": [],
   "source": [
    "import os\n",
    "\n",
    "try:\n",
    "    os.mkdir('/home/guilherme/Documents/GIT - REPOSITORIES/dataset/EnvironmentCanada/Quebec-Heatwaves/')\n",
    "    os.mkdir('/home/guilherme/Documents/GIT - REPOSITORIES/dataset/EnvironmentCanada/Quebec-Heatwaves/Data/')\n",
    "    os.mkdir('/home/guilherme/Documents/GIT - REPOSITORIES/dataset/EnvironmentCanada/Quebec-Heatwaves/Graphs/')\n",
    "except:\n",
    "    pass"
   ]
  },
  {
   "cell_type": "code",
   "execution_count": 59,
   "metadata": {},
   "outputs": [],
   "source": [
    "import os\n",
    "path = '/home/guilherme/Documents/GIT - REPOSITORIES/dataset/EnvironmentCanada/Quebec-Heatwaves/Data/'\n",
    "files = os.listdir(path)\n",
    "hrDataSet = dict()\n",
    "for file in files:\n",
    "    data = pd.read_csv(path+file)\n",
    "    data['DATE'] = pd.to_datetime(data['DATE'])\n",
    "    hrDataSet[file.replace('.csv','')] = data"
   ]
  },
  {
   "cell_type": "code",
   "execution_count": 60,
   "metadata": {},
   "outputs": [],
   "source": [
    "for key in hrDataSet:\n",
    "    data = hrDataSet[key]\n",
    "    data = data.set_index('DATE')\n",
    "    months = data.index.month\n",
    "    mask = ((months == 6).astype('uint8') + (months == 7).astype('uint8') + (months == 8).astype('uint8')).astype(bool)\n",
    "    data = hrDataSet[key].iloc[mask]\n",
    "    hrDataSet[key] = (data, ew.wave_metrics(data, 'HW'))"
   ]
  },
  {
   "cell_type": "code",
   "execution_count": 61,
   "metadata": {},
   "outputs": [],
   "source": [
    "def label_heatwaves(data):\n",
    "    import numpy as np\n",
    "    from scipy.ndimage.measurements import label\n",
    "\n",
    "    array = np.asarray([data['HW']])\n",
    "    structure = np.ones((3, 3), dtype=np.int)  # this defines the connection filter\n",
    "    labeled, ncomponents = label(array, structure)\n",
    "    \n",
    "    return labeled[0]"
   ]
  },
  {
   "cell_type": "code",
   "execution_count": 62,
   "metadata": {},
   "outputs": [],
   "source": [
    "def hw_metrics_plot(fig, ax, data, xlabels, ylabel, title, bar_labels, width = 0.25):\n",
    "    import matplotlib\n",
    "    import matplotlib.pyplot as plt\n",
    "    import numpy as np\n",
    "\n",
    "    x = np.arange(len(xlabels))  # the label locations\n",
    "    \n",
    "    rects1 = ax.bar(x - width, data.iloc[:,0].values.astype(\"uint8\"), width, label=bar_labels[0])\n",
    "    rects2 = ax.bar(x , data.iloc[:,1].values.astype(\"uint8\"), width, label=bar_labels[1])\n",
    "    rects3 = ax.bar(x + width, data.iloc[:,2].values.astype(\"uint8\"), width, label=bar_labels[2])\n",
    "\n",
    "    # Add some text for labels, title and custom x-axis tick labels, etc.\n",
    "    ax.set_ylabel(ylabel)\n",
    "    ax.set_title(title)\n",
    "    ax.set_xticks(x)\n",
    "    ax.set_xticklabels(xlabels)\n",
    "    ax.legend()\n",
    "\n",
    "\n",
    "    def autolabel(rects):\n",
    "        \"\"\"Attach a text label above each bar in *rects*, displaying its height.\"\"\"\n",
    "        for rect in rects:\n",
    "            height = rect.get_height()\n",
    "            ax.annotate('{}'.format(height),\n",
    "                        xy=(rect.get_x() + rect.get_width() / 2, height),\n",
    "                        xytext=(0, 3),  # 3 points vertical offset\n",
    "                        textcoords=\"offset points\",\n",
    "                        ha='center', va='bottom')\n",
    "\n",
    "\n",
    "    autolabel(rects1)\n",
    "    autolabel(rects2)\n",
    "    autolabel(rects3)\n",
    "\n",
    "    fig.tight_layout()"
   ]
  },
  {
   "cell_type": "code",
   "execution_count": 63,
   "metadata": {},
   "outputs": [],
   "source": [
    "def HCW_waves_plot(fig, ax, x1, x2, y1, y2, xlabel, ylabel, legend1, legend2, title):\n",
    "    import matplotlib\n",
    "    \n",
    "    ax.set_title(title)\n",
    "    ax.set_xlabel(xlabel)\n",
    "    ax.set_ylabel(ylabel)\n",
    "    ax.bar(x1, y1, color='blue', label= legend1)\n",
    "    ax.bar(x2, y2, color='red' , label= legend2)\n",
    "    \n",
    "    # Turn on the minor TICKS, which are required for the minor GRID\n",
    "    ax.minorticks_on()\n",
    "\n",
    "    # Customize the major grid\n",
    "    #ax.grid(which='major', axis='y', linestyle='-', linewidth='0.5', color='black')\n",
    "    # Customize the minor grid\n",
    "    ax.grid(which='both', axis='y', linestyle=':', linewidth='0.5', color='black')\n",
    "    \n",
    "    handles, labels = ax.get_legend_handles_labels()\n",
    "    i = 0\n",
    "    while i < len(handles):\n",
    "        if type(handles[i]) != matplotlib.lines.Line2D and len(handles[i]) == 0:\n",
    "            handles.remove(handles[i])\n",
    "            labels.remove(labels[i])\n",
    "        else:\n",
    "            i+=1\n",
    "    \n",
    "    ax.legend(handles, labels, bbox_to_anchor=(0.9, 1.05))"
   ]
  },
  {
   "cell_type": "code",
   "execution_count": 89,
   "metadata": {},
   "outputs": [],
   "source": [
    "def HCW_pct_plot(fig, ax, dates, tmax, tmin, pct90mx, pct90mn, \n",
    "                 HW_dates, HW_tmax, HW_pct90mx, HW_tmin, HW_pct90mn, \n",
    "                 xlabel='', ylabel='', legend=['','','','',''], title=''):\n",
    "    \n",
    "    import matplotlib\n",
    "    \n",
    "    x = dates[range(0,len(dates),5)]\n",
    "    \n",
    "    ax.set_title(title)\n",
    "    ax.set_xlabel(xlabel)\n",
    "    ax.set_ylabel(ylabel)\n",
    "    ax.set_xticks(x)\n",
    "    ax.set_xticklabels(x)\n",
    "    \n",
    "    ax.plot(dates, tmax, color='red', label= legend[0])\n",
    "    ax.plot(dates, tmin, color='blue', label= legend[1])\n",
    "    ax.plot(dates, pct90mx, color='red', linestyle='--', label = legend[2])\n",
    "    ax.plot(dates, pct90mn, color='blue', linestyle='--', label = legend[3])\n",
    "    \n",
    "    for i in range(len(HW_tmax)):\n",
    "        ax.fill_between(HW_dates[i], HW_tmax[i], HW_pct90mx[i], where=HW_tmax[i] > HW_pct90mx[i], \n",
    "                        facecolor='red', interpolate=False,label=legend[4])\n",
    "        ax.fill_between(HW_dates[i], HW_tmin[i], HW_pct90mn[i], where=HW_tmin[i] > HW_pct90mn[i], \n",
    "                        facecolor='blue', interpolate=False,label=legend[4])\n",
    "    \n",
    "    # Turn on the minor TICKS, which are required for the minor GRID\n",
    "    ax.minorticks_on()\n",
    "\n",
    "    # Customize the major grid\n",
    "    #ax.grid(which='major', axis='y', linestyle='-', linewidth='0.5', color='black')\n",
    "    # Customize the minor grid\n",
    "    ax.grid(which='both', axis='both', linestyle=':', linewidth='0.5', color='black')\n",
    "    \n",
    "    handles, labels = ax.get_legend_handles_labels()\n",
    "    i = 0\n",
    "    while i < len(handles):\n",
    "        if type(handles[i]) != matplotlib.lines.Line2D and type(handles[i]) != matplotlib.collections.PolyCollection and len(handles[i]) == 0:\n",
    "            handles.remove(handles[i])\n",
    "            labels.remove(labels[i])\n",
    "        else:\n",
    "            i+=1\n",
    "    \n",
    "    ax.legend(handles, labels, bbox_to_anchor=(0.9, 1.05))"
   ]
  },
  {
   "cell_type": "code",
   "execution_count": 72,
   "metadata": {},
   "outputs": [
    {
     "name": "stdout",
     "output_type": "stream",
     "text": [
      "Ploting Heatwaves for Station 27646...\n",
      "Ploting Heatwaves for Station 49608...\n",
      "Ploting Heatwaves for Station 5397...\n",
      "Ploting Heatwaves for Station 45309...\n",
      "Ploting Heatwaves for Station 27377...\n",
      "Ploting Heatwaves for Station 5606...\n",
      "Ploting Heatwaves for Station 48374...\n",
      "Ploting Heatwaves for Station 10801...\n",
      "Ploting Heatwaves for Station 47587...\n",
      "Ploting Heatwaves for Station 29452...\n",
      "Ploting Heatwaves for Station 53002...\n",
      "Ploting Heatwaves for Station 53001...\n",
      "Ploting Heatwaves for Station 10873...\n",
      "Ploting Heatwaves for Station 5237...\n",
      "Ploting Heatwaves for Station 10843...\n",
      "Ploting Heatwaves for Station 42013...\n",
      "Ploting Heatwaves for Station 51157...\n",
      "Ploting Heatwaves for Station 5911...\n",
      "Ploting Heatwaves for Station 10868...\n",
      "Ploting Heatwaves for Station 10982...\n",
      "Ploting Heatwaves for Station 5903...\n",
      "Ploting Heatwaves for Station 10761...\n",
      "task finished.\n"
     ]
    }
   ],
   "source": [
    "# Turn interactive plotting off\n",
    "plt.ioff()\n",
    "path = \"Graphs/\"\n",
    "for key in hrDataSet:\n",
    "    print(\"Ploting Heatwaves for Station \"+key+'...')\n",
    "    \n",
    "    name = metaData.loc[metaData['Station ID'] == int(key)]['Name'].values[0]\n",
    "    bar_labels = ['Number of Heatwaves','Longest Heatwave Duration in Days','Total of Days With Heatwave']\n",
    "\n",
    "    fig, ax = plt.subplots(3,1,figsize=(16,16))\n",
    "    hw_metrics_plot(fig = fig, ax = ax[0], data=hrDataSet[key][1], xlabels = ['Summer 2018', 'Summer 2019'], \n",
    "                    ylabel='', title=\"Station: \"+name+\". Heatwave Metrics\", bar_labels=bar_labels)\n",
    "\n",
    "    data = hrDataSet[key][0]\n",
    "    data = data.set_index('DATE')\n",
    "    year = data.index.year\n",
    "    mask1 = year == 2018\n",
    "    mask2 = year == 2019\n",
    "    data = hrDataSet[key][0].iloc[mask1]\n",
    "\n",
    "    y1 = data.loc[data['HW'] == 0]['Max Temp (°C)'].values\n",
    "    x1 = data.loc[data['HW'] == 0]['DATE'].values\n",
    "    y2 = data.loc[data['HW'] == 1]['Max Temp (°C)'].values\n",
    "    x2 = data.loc[data['HW'] == 1]['DATE'].values\n",
    "\n",
    "    HCW_waves_plot(fig, ax[1], x1, x2, y1, y2, 'Date', 'Max Temperature (°C)', 'Normal', 'Heatwave', \n",
    "                  \"Station: \"+name+\". Heatwaves in Quebec during summer, 2018\")\n",
    "    data = hrDataSet[key][0].iloc[mask2]\n",
    "    y1 = data.loc[data['HW'] == 0]['Max Temp (°C)'].values\n",
    "    x1 = data.loc[data['HW'] == 0]['DATE'].values\n",
    "    y2 = data.loc[data['HW'] == 1]['Max Temp (°C)'].values\n",
    "    x2 = data.loc[data['HW'] == 1]['DATE'].values\n",
    "\n",
    "    HCW_waves_plot(fig, ax[2], x1, x2, y1, y2, 'Date', 'Max Temperature (°C)', 'Normal', 'Heatwave', \n",
    "                  \"Station: \"+name+\". Heatwaves in Quebec during summer, 2019\")\n",
    "\n",
    "    fig.savefig(path+key+'-1.png')\n",
    "    plt.close(fig)\n",
    "print('task finished.')"
   ]
  },
  {
   "cell_type": "code",
   "execution_count": 92,
   "metadata": {
    "scrolled": false
   },
   "outputs": [
    {
     "name": "stdout",
     "output_type": "stream",
     "text": [
      "Ploting Algorithm demonstration for Station 27646...\n",
      "Ploting Algorithm demonstration for Station 49608...\n",
      "Ploting Algorithm demonstration for Station 5397...\n",
      "Ploting Algorithm demonstration for Station 45309...\n",
      "Ploting Algorithm demonstration for Station 27377...\n",
      "Ploting Algorithm demonstration for Station 5606...\n",
      "Ploting Algorithm demonstration for Station 48374...\n",
      "Ploting Algorithm demonstration for Station 10801...\n",
      "Ploting Algorithm demonstration for Station 47587...\n",
      "Ploting Algorithm demonstration for Station 29452...\n",
      "Ploting Algorithm demonstration for Station 53002...\n",
      "Ploting Algorithm demonstration for Station 53001...\n",
      "Ploting Algorithm demonstration for Station 10873...\n",
      "Ploting Algorithm demonstration for Station 5237...\n",
      "Ploting Algorithm demonstration for Station 10843...\n",
      "Ploting Algorithm demonstration for Station 42013...\n",
      "Ploting Algorithm demonstration for Station 51157...\n",
      "Ploting Algorithm demonstration for Station 5911...\n",
      "Ploting Algorithm demonstration for Station 10868...\n",
      "Ploting Algorithm demonstration for Station 10982...\n",
      "Ploting Algorithm demonstration for Station 5903...\n",
      "Ploting Algorithm demonstration for Station 10761...\n",
      "task finished.\n"
     ]
    }
   ],
   "source": [
    "# Turn interactive plotting off\n",
    "plt.ioff()\n",
    "path = \"Graphs/\"\n",
    "for key in hrDataSet:\n",
    "    print(\"Ploting Algorithm demonstration for Station \"+key+'...')\n",
    "    \n",
    "    name = metaData.loc[metaData['Station ID'] == int(key)]['Name'].values[0]\n",
    "    fig, ax = plt.subplots(2,1,figsize=(16,16))\n",
    "    \n",
    "    legend = ['Max Temperature', 'Min Temperature', '90th Tmax Percentile', '90th Tmin Percentile', 'Heatwave']\n",
    "    \n",
    "    data = hrDataSet[key][0]\n",
    "    data = data.set_index('DATE')\n",
    "    year = data.index.year\n",
    "    mask1 = year == 2018\n",
    "    mask2 = year == 2019\n",
    "    \n",
    "    data = hrDataSet[key][0].iloc[mask1]\n",
    "    dates = data['DAY365'].values\n",
    "    tmax, tmin = data['Max Temp (°C)'].values, data['Min Temp (°C)'].values\n",
    "    pct90mx, pct90mn = data['CTX90pct'].values, data['CTN90pct'].values\n",
    "    \n",
    "    data['Heatwave Label'] = label_heatwaves(data)\n",
    "    \n",
    "    HW_dates = []\n",
    "    HW_tmax = []\n",
    "    HW_tmin = []\n",
    "    HW_pct90mx = []\n",
    "    HW_pct90mn = []\n",
    "    for label in data['Heatwave Label'].unique():\n",
    "        if label == 0:\n",
    "            continue\n",
    "        HW_dates.append(data.loc[data['Heatwave Label'] == label]['DAY365'].values)\n",
    "        HW_tmax.append(data.loc[data['Heatwave Label'] == label]['Max Temp (°C)'].values)\n",
    "        HW_tmin.append(data.loc[data['Heatwave Label'] == label]['Min Temp (°C)'].values)\n",
    "        HW_pct90mx.append(data.loc[data['Heatwave Label'] == label]['CTX90pct'].values)\n",
    "        HW_pct90mn.append(data.loc[data['Heatwave Label'] == label]['CTN90pct'].values)\n",
    "    \n",
    "    title = 'Heatwave Analysis during Summer of 2018'\n",
    "    HCW_pct_plot(fig, ax[0], dates, tmax, tmin, pct90mx, pct90mn, \n",
    "                HW_dates, HW_tmax, HW_pct90mx, HW_tmin, HW_pct90mn, \n",
    "                xlabel='Day', ylabel='Temperature (°C)', legend=legend, title=title)\n",
    "    \n",
    "    data = hrDataSet[key][0].iloc[mask2]\n",
    "    dates = data['DAY365'].values\n",
    "    tmax, tmin = data['Max Temp (°C)'].values, data['Min Temp (°C)'].values\n",
    "    \n",
    "    warnings.filterwarnings(\"ignore\")\n",
    "    data['CTX90pct'] = pct90mx\n",
    "    data['CTN90pct'] = pct90mn\n",
    "    \n",
    "    data['Heatwave Label'] = label_heatwaves(data)\n",
    "    HW_dates = []\n",
    "    HW_tmax = []\n",
    "    HW_tmin = []\n",
    "    HW_pct90mx = []\n",
    "    HW_pct90mn = []\n",
    "    for label in data['Heatwave Label'].unique():\n",
    "        if label == 0:\n",
    "            continue\n",
    "        HW_dates.append(data.loc[data['Heatwave Label'] == label]['DAY365'].values)\n",
    "        HW_tmax.append(data.loc[data['Heatwave Label'] == label]['Max Temp (°C)'].values)\n",
    "        HW_tmin.append(data.loc[data['Heatwave Label'] == label]['Min Temp (°C)'].values)\n",
    "        HW_pct90mx.append(data.loc[data['Heatwave Label'] == label]['CTX90pct'].values)\n",
    "        HW_pct90mn.append(data.loc[data['Heatwave Label'] == label]['CTN90pct'].values)\n",
    "    \n",
    "    title = 'Heatwave Analysis during Summer, 2019'\n",
    "    HCW_pct_plot(fig, ax[1], dates, tmax, tmin, pct90mx, pct90mn, \n",
    "                HW_dates, HW_tmax, HW_pct90mx, HW_tmin, HW_pct90mn, \n",
    "                xlabel='Day', ylabel='Temperature (°C)', legend=legend, title=title)\n",
    "\n",
    "    fig.savefig(path+key+'-2.png')\n",
    "    plt.close(fig)\n",
    "\n",
    "\n",
    "print('task finished.')"
   ]
  },
  {
   "cell_type": "code",
   "execution_count": 93,
   "metadata": {},
   "outputs": [],
   "source": [
    "def generate_report(station_name, station_ID, lpath, spath):\n",
    "    from PIL import Image\n",
    "\n",
    "    image1 = Image.open(lpath+station_ID+'-1.png')\n",
    "    image2 = Image.open(lpath+station_ID+'-2.png')\n",
    "\n",
    "    im1 = image1.convert('RGB')\n",
    "    im2 = image2.convert('RGB')\n",
    "\n",
    "    im1.save(spath+station_name+'.pdf',save_all=True, append_images=[im2])"
   ]
  },
  {
   "cell_type": "code",
   "execution_count": 94,
   "metadata": {
    "scrolled": false
   },
   "outputs": [
    {
     "name": "stdout",
     "output_type": "stream",
     "text": [
      "Generating Report for Station 10982...\n",
      "Generating Report for Station 47587...\n",
      "Generating Report for Station 10868...\n",
      "Generating Report for Station 53001...\n",
      "Generating Report for Station 10843...\n",
      "Generating Report for Station 48374...\n",
      "Generating Report for Station 27377...\n",
      "Generating Report for Station 27646...\n",
      "Generating Report for Station 5606...\n",
      "Generating Report for Station 5397...\n",
      "Generating Report for Station 10761...\n",
      "Generating Report for Station 5237...\n",
      "Generating Report for Station 42013...\n",
      "Generating Report for Station 10801...\n",
      "Generating Report for Station 5911...\n",
      "Generating Report for Station 53002...\n",
      "Generating Report for Station 29452...\n",
      "Generating Report for Station 51157...\n",
      "Generating Report for Station 5903...\n",
      "Generating Report for Station 49608...\n",
      "Generating Report for Station 10873...\n",
      "Generating Report for Station 45309...\n",
      "done.\n"
     ]
    }
   ],
   "source": [
    "ld = os.listdir('Graphs/')\n",
    "keys = [k.replace('-1.png','').replace('-2.png','') for k in ld]\n",
    "keys = list(dict.fromkeys(keys))\n",
    "for key in keys:\n",
    "    print(\"Generating Report for Station \"+key+'...')\n",
    "    \n",
    "    name = metaData.loc[metaData['Station ID'] == int(key)]['Name'].values[0]\n",
    "    name = name.replace('/','-')\n",
    "    generate_report(name, key, 'Graphs/','Reports/')\n",
    "print('done.')"
   ]
  }
 ],
 "metadata": {
  "kernelspec": {
   "display_name": "Python 3",
   "language": "python",
   "name": "python3"
  },
  "language_info": {
   "codemirror_mode": {
    "name": "ipython",
    "version": 3
   },
   "file_extension": ".py",
   "mimetype": "text/x-python",
   "name": "python",
   "nbconvert_exporter": "python",
   "pygments_lexer": "ipython3",
   "version": "3.8.3"
  }
 },
 "nbformat": 4,
 "nbformat_minor": 2
}
